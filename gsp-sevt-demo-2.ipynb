{
 "cells": [
  {
   "cell_type": "markdown",
   "metadata": {},
   "source": [
    "# GSP SEVT NETCONF/YANG\n",
    "\n",
    "This notebook goes through a set of examples with a XRv9000 virtual platform. The goal is to show how NETCONF/YANG can be simply leveraged with IOS-XR to perform a range of tasks for the customer. We will cover topics like:\n",
    "\n",
    "* Basic connectivity\n",
    "* Why we really want to use some form of client library\n",
    "* Getting started with a Pythin client like [ncclient](https://github/com/ncclient/ncclient)\n",
    "* Model and feature discovery\n",
    "* Querying and configuring features\n",
    "\n",
    "First, let's talk a little about the environment being used here. This is all run inside **jupyter notebooks**, which some may already be familiar with as **iPython notebooks**.\n",
    "\n",
    "A jupyter notebook lets us mix text and code and provides a simple way to experiment with Python code.\n",
    "\n",
    "## Useful Snippets\n",
    "\n",
    "Let's define some useful little snippets of code that we might want to run to define utilities or to enable debugs, set variables for use, etc.\n",
    "\n",
    "### Enable Debugging\n",
    "\n",
    "The ncclient libary can generate vast amounts of debug information via standard Python logging. The code fragment below shows how to enable this. But the logging is **vast**! You have been warned!"
   ]
  },
  {
   "cell_type": "code",
   "execution_count": null,
   "metadata": {
    "collapsed": false,
    "scrolled": true
   },
   "outputs": [],
   "source": [
    "import logging\n",
    "\n",
    "handler = logging.StreamHandler()\n",
    "for l in ['ncclient.transport.ssh', 'ncclient.transport.session', 'ncclient.operations.rpc']:\n",
    "    logger = logging.getLogger(l)\n",
    "    logger.addHandler(handler)\n",
    "    logger.setLevel(logging.DEBUG)"
   ]
  },
  {
   "cell_type": "markdown",
   "metadata": {},
   "source": [
    "### Pretty Printing XML\n",
    "\n",
    "The ncclient library works with XML. It takes XML in and gives XML back. Yeah, I know it's not JSON, so we need to make it a little easier to read, so let's define a pretty printer we can use with ncclient responses:"
   ]
  },
  {
   "cell_type": "code",
   "execution_count": null,
   "metadata": {
    "collapsed": true,
    "scrolled": true
   },
   "outputs": [],
   "source": [
    "from lxml import etree\n",
    "\n",
    "def pretty_print(nc_retval):\n",
    "        print(etree.tostring(etree.fromstring(nc_retval.data_xml), pretty_print=True))"
   ]
  },
  {
   "cell_type": "markdown",
   "metadata": {},
   "source": [
    "## Connecting to a Device\n",
    "\n",
    "First, we need to make sure the device itself has NETCONF/YANG enabled. It's pretty simple:\n",
    "\n",
    "```\n",
    "ssh server v2\n",
    "ssh server netconf\n",
    "netconf-yang agent ssh\n",
    "```\n",
    "\n",
    "You also need to generate a host key from the exec prompt:\n",
    "\n",
    "```\n",
    "crypto key generate rsa\n",
    "```\n",
    "\n",
    "Next, let's define some variables that let us attach to the device. I'm connecting through an SSH tunnel to my device running on a UCS server in the lab. You should replace the variables below with the device of your choice:"
   ]
  },
  {
   "cell_type": "code",
   "execution_count": null,
   "metadata": {
    "collapsed": true
   },
   "outputs": [],
   "source": [
    "HOST = '127.0.0.1'\n",
    "PORT = 8304\n",
    "USER = 'cisco'\n",
    "PASS = 'cisco'"
   ]
  },
  {
   "cell_type": "code",
   "execution_count": null,
   "metadata": {
    "collapsed": true
   },
   "outputs": [],
   "source": [
    "HOST = '172.27.255.38'\n",
    "PORT = 830\n",
    "USER = 'admin'\n",
    "PASS = 'admin'"
   ]
  },
  {
   "cell_type": "code",
   "execution_count": null,
   "metadata": {
    "collapsed": true
   },
   "outputs": [],
   "source": [
    "# Giles' ASR9K\n",
    "HOST = '172.23.29.104'\n",
    "PORT = 830\n",
    "USER = 'admin'\n",
    "PASS = 'i2ssfail'"
   ]
  },
  {
   "cell_type": "code",
   "execution_count": null,
   "metadata": {
    "collapsed": true
   },
   "outputs": [],
   "source": [
    "HOST = '172.19.193.137'\n",
    "PORT = 830\n",
    "USER = 'admin'\n",
    "PASS = 'cisco'"
   ]
  },
  {
   "cell_type": "markdown",
   "metadata": {},
   "source": [
    "Now let's establish a NETCONF session to that box using ncclient:"
   ]
  },
  {
   "cell_type": "code",
   "execution_count": null,
   "metadata": {
    "collapsed": false,
    "scrolled": true
   },
   "outputs": [],
   "source": [
    "from ncclient import manager\n",
    "\n",
    "def my_unknown_host_cb(host, fingerprint):\n",
    "    return True\n",
    "    \n",
    "m = manager.connect(host=HOST, port=PORT, username=USER, password=PASS,\n",
    "                    allow_agent=False,\n",
    "                    look_for_keys=False,\n",
    "                    hostkey_verify=False,\n",
    "                    unknown_host_cb=my_unknown_host_cb)"
   ]
  },
  {
   "cell_type": "markdown",
   "metadata": {},
   "source": [
    "## Capabilities"
   ]
  },
  {
   "cell_type": "markdown",
   "metadata": {},
   "source": [
    "Let's look at the capabilities presented by the thing we've just connected to:"
   ]
  },
  {
   "cell_type": "code",
   "execution_count": null,
   "metadata": {
    "collapsed": false
   },
   "outputs": [],
   "source": [
    "print(m.server_capabilities)"
   ]
  },
  {
   "cell_type": "markdown",
   "metadata": {
    "collapsed": true
   },
   "source": [
    "Ok, that's a bit messy, so let's tidy it up a bit and look, initially, at all the base netconf capabilities:"
   ]
  },
  {
   "cell_type": "code",
   "execution_count": null,
   "metadata": {
    "collapsed": false,
    "scrolled": true
   },
   "outputs": [],
   "source": [
    "nc_caps = [c for c in m.server_capabilities if c.startswith('urn:ietf:params:netconf')]\n",
    "for c in nc_caps:\n",
    "    print(c)"
   ]
  },
  {
   "cell_type": "markdown",
   "metadata": {
    "collapsed": true
   },
   "source": [
    "And now let's look at the capabilities that are related to model support:"
   ]
  },
  {
   "cell_type": "code",
   "execution_count": null,
   "metadata": {
    "collapsed": false,
    "scrolled": true
   },
   "outputs": [],
   "source": [
    "import re\n",
    "\n",
    "for c in m.server_capabilities:\n",
    "    model = re.search('module=([^&]*)&', c)\n",
    "    if model is not None:\n",
    "        print(\"{}\".format(model.group(1)))\n",
    "\n",
    "        revision = re.search('revision=([0-9]{4}-[0-9]{2}-[0-9]{2})', c)\n",
    "        if revision is not None:\n",
    "            print(\"  revision = {}\".format(revision.group(1)))\n",
    "\n",
    "        deviations = re.search('deviations=([a-zA-Z0-9\\-,]+)($|&)',c)\n",
    "        if deviations is not None:\n",
    "            print(\"  deviations = {}\".format(deviations.group(1)))\n",
    "\n",
    "        features = re.search('features=([a-zA-Z0-9\\-,]+)($|&)',c)\n",
    "        if features is not None:\n",
    "            print(\"  features = {}\".format(features.group(1)))"
   ]
  },
  {
   "cell_type": "markdown",
   "metadata": {},
   "source": [
    "## Schema Discovery\n",
    "\n",
    "Building on the parsing of the capabilities we saw above, NETCONF/YANG can also let a client discover more details on the schemas supported by a box.\n",
    "\n",
    "But why do we care? Let's think back to what we talked about earlier. About the need for boxes to describe themselves to their clients. To expose their \"model\".\n",
    "\n",
    "Let's pick a base model that looks like it may do something interesting, for example ```Cisco-IOS-XR-ifmgr-cfg```, and let's download the schema. The ncclient library provides a nice, simple function for that."
   ]
  },
  {
   "cell_type": "code",
   "execution_count": null,
   "metadata": {
    "collapsed": false
   },
   "outputs": [],
   "source": [
    "# c = m.get_schema('Cisco-IOS-XR-pfi-im-cmd-oper')\n",
    "c = m.get_schema('ned')\n",
    "\n",
    "print(c.xml)"
   ]
  },
  {
   "cell_type": "markdown",
   "metadata": {},
   "source": [
    "Yeah, that's all a bit messy, so let's tidy it up a bit, which means converting some HTML entities to the characters we're used to and extracting just the schema text from the XML ```<data>``` element:"
   ]
  },
  {
   "cell_type": "code",
   "execution_count": null,
   "metadata": {
    "collapsed": false
   },
   "outputs": [],
   "source": [
    "from BeautifulSoup import BeautifulStoneSoup\n",
    "\n",
    "print BeautifulStoneSoup(c.xml, convertEntities=BeautifulStoneSoup.HTML_ENTITIES).find('data').getText()"
   ]
  },
  {
   "cell_type": "markdown",
   "metadata": {},
   "source": [
    "## What About Config?\n",
    "\n",
    "The ncclient library provides for some simple operations. Let's skip thinking about schemas and stuff like that. Instead let's focus on config and getting end setting it. For that, ncclient provides two methods:\n",
    "\n",
    "* get_config - takes a target data store and an optional filter\n",
    "* edit_config - takes a target data store and an XML document with the edit request\n",
    "\n",
    "\n",
    "### Getting Config\n",
    "\n",
    "Let's look at some simple requests..."
   ]
  },
  {
   "cell_type": "code",
   "execution_count": null,
   "metadata": {
    "collapsed": false,
    "scrolled": true
   },
   "outputs": [],
   "source": [
    "c = m.get_config(source='running')\n",
    "pretty_print(c)"
   ]
  },
  {
   "cell_type": "markdown",
   "metadata": {},
   "source": [
    "Now let's add in a simple filter to just get interface configuration:"
   ]
  },
  {
   "cell_type": "code",
   "execution_count": null,
   "metadata": {
    "collapsed": false,
    "scrolled": true
   },
   "outputs": [],
   "source": [
    "filter = '''\n",
    "<interface-configurations xmlns=\"http://cisco.com/ns/yang/Cisco-IOS-XR-ifmgr-cfg\"/>\n",
    "'''\n",
    "c = m.get_config(source='running', filter=('subtree', filter))\n",
    "pretty_print(c)"
   ]
  },
  {
   "cell_type": "markdown",
   "metadata": {},
   "source": [
    "Let's refine the query a bit to look at **just** the management ethernet port:"
   ]
  },
  {
   "cell_type": "code",
   "execution_count": null,
   "metadata": {
    "collapsed": false,
    "scrolled": false
   },
   "outputs": [],
   "source": [
    "filter = '''\n",
    "<interface-configurations xmlns=\"http://cisco.com/ns/yang/Cisco-IOS-XR-ifmgr-cfg\">\n",
    "  <interface-configuration>\n",
    "    <interface-name>MgmtEth0/RP0/CPU0/0</interface-name>\n",
    "  </interface-configuration>\n",
    "</interface-configurations>\n",
    "'''\n",
    "c = m.get_config(source='running', filter=('subtree', filter))\n",
    "pretty_print(c)"
   ]
  },
  {
   "cell_type": "markdown",
   "metadata": {},
   "source": [
    "Or we may want to look at just ISIS config:"
   ]
  },
  {
   "cell_type": "code",
   "execution_count": null,
   "metadata": {
    "collapsed": false
   },
   "outputs": [],
   "source": [
    "filter = '''<isis xmlns=\"http://cisco.com/ns/yang/Cisco-IOS-XR-clns-isis-cfg\"/>'''\n",
    "c = m.get_config(source='running', filter=('subtree', filter))\n",
    "pretty_print(c)"
   ]
  },
  {
   "cell_type": "markdown",
   "metadata": {},
   "source": [
    "Or maybe just L2VPN?"
   ]
  },
  {
   "cell_type": "code",
   "execution_count": null,
   "metadata": {
    "collapsed": false
   },
   "outputs": [],
   "source": [
    "filter = '''<evpn xmlns=\"http://cisco.com/ns/yang/Cisco-IOS-XR-l2vpn-cfg\"/>'''\n",
    "c = m.get_config(source='running', filter=('subtree', filter))\n",
    "pretty_print(c)"
   ]
  },
  {
   "cell_type": "markdown",
   "metadata": {},
   "source": [
    "### Editing Config\n",
    "\n",
    "Let's start with something simple, like applying an IP address to an interface and bringing it up. We can actually use the data we got from the management ethernet port as a template.\n",
    "\n",
    "To do this, we use two functions:\n",
    "\n",
    "* ```edit_config``` on the candidate data store\n",
    "* ```commit``` to commit the change to running config, just like on the CLI\n",
    "\n",
    "For good measure, we'll also get the interface config back again to check out that what we asked to happen, actually did happen."
   ]
  },
  {
   "cell_type": "code",
   "execution_count": null,
   "metadata": {
    "collapsed": false
   },
   "outputs": [],
   "source": [
    "from ncclient.operations import TimeoutExpiredError\n",
    "\n",
    "edit_data = '''\n",
    "<config>\n",
    "  <interface-configurations xmlns=\"http://cisco.com/ns/yang/Cisco-IOS-XR-ifmgr-cfg\">\n",
    "   <interface-configuration>\n",
    "    <active>act</active>\n",
    "    <interface-name>GigabitEthernet0/0/0/0</interface-name>\n",
    "    <ipv4-network xmlns=\"http://cisco.com/ns/yang/Cisco-IOS-XR-ipv4-io-cfg\">\n",
    "     <addresses>\n",
    "      <primary>\n",
    "       <address>192.168.1.10</address>\n",
    "       <netmask>255.255.255.0</netmask>\n",
    "      </primary>\n",
    "     </addresses>\n",
    "    </ipv4-network>\n",
    "    <shutdown nc:operation=\"remove\"/>\n",
    "   </interface-configuration>\n",
    "  </interface-configurations>\n",
    "</config>\n",
    "'''\n",
    "\n",
    "filter = '''\n",
    "<interface-configurations xmlns=\"http://cisco.com/ns/yang/Cisco-IOS-XR-ifmgr-cfg\">\n",
    "  <interface-configuration>\n",
    "    <interface-name>GigabitEthernet0/0/0/0</interface-name>\n",
    "  </interface-configuration>\n",
    "</interface-configurations>\n",
    "'''\n",
    "\n",
    "try:\n",
    "    m.edit_config(edit_data, target='candidate', format='xml')\n",
    "    m.commit()\n",
    "    c = m.get_config(source='running', filter=('subtree', filter))\n",
    "    pretty_print(c)\n",
    "except TimeoutExpiredError as e:\n",
    "    print(\"Operation timeout!\")\n",
    "except Exception as e:\n",
    "    print(\"severity={}, tag={}\".format(e.severity, e.tag))\n",
    "    print(e)"
   ]
  },
  {
   "cell_type": "markdown",
   "metadata": {},
   "source": [
    "And now what about deleting that config and taking the interface back to it's original state?"
   ]
  },
  {
   "cell_type": "code",
   "execution_count": null,
   "metadata": {
    "collapsed": false
   },
   "outputs": [],
   "source": [
    "from ncclient.operations import TimeoutExpiredError\n",
    "\n",
    "filter = '''\n",
    "<interface-configurations xmlns=\"http://cisco.com/ns/yang/Cisco-IOS-XR-ifmgr-cfg\">\n",
    "  <interface-configuration>\n",
    "    <interface-name>GigabitEthernet0/0/0/0</interface-name>\n",
    "  </interface-configuration>\n",
    "</interface-configurations>\n",
    "'''\n",
    "\n",
    "edit_data = '''\n",
    "<config>\n",
    "  <interface-configurations xmlns=\"http://cisco.com/ns/yang/Cisco-IOS-XR-ifmgr-cfg\">\n",
    "   <interface-configuration>\n",
    "    <active>act</active>\n",
    "    <interface-name>GigabitEthernet0/0/0/0</interface-name>\n",
    "    <ipv4-network xmlns=\"http://cisco.com/ns/yang/Cisco-IOS-XR-ipv4-io-cfg\" nc:operation=\"remove\"/>\n",
    "    <shutdown/>\n",
    "   </interface-configuration>\n",
    "  </interface-configurations>\n",
    "</config>\n",
    "'''\n",
    "\n",
    "\n",
    "edit_data2 = '''\n",
    "<config>\n",
    "  <interface-configurations xmlns=\"http://cisco.com/ns/yang/Cisco-IOS-XR-ifmgr-cfg\">\n",
    "   <interface-configuration>\n",
    "    <active>act</active>\n",
    "    <interface-name>GigabitEthernet0/0/0/0</interface-name>\n",
    "    <shutdown nc:operation=\"delete\"/>\n",
    "    <ipv4-network xmlns=\"http://cisco.com/ns/yang/Cisco-IOS-XR-ipv4-io-cfg\" nc:operation=\"delete\"/>\n",
    "   </interface-configuration>\n",
    "  </interface-configurations>\n",
    "</config>\n",
    "'''\n",
    "\n",
    "\n",
    "try:\n",
    "    m.edit_config(edit_data2, target='candidate', format='xml')\n",
    "    m.commit()\n",
    "    c = m.get_config(source='running', filter=('subtree', filter))\n",
    "    pretty_print(c)\n",
    "except TimeoutExpiredError as e:\n",
    "    print(\"Operation timeout!\")\n",
    "except Exception as e:\n",
    "    print(\"severity={}, tag={}\".format(e.severity, e.tag))\n",
    "    print(e)"
   ]
  },
  {
   "cell_type": "markdown",
   "metadata": {},
   "source": [
    "## What About Oper Data?\n",
    "\n",
    "As we touched on before, NETCONF also has the ```get``` operation. This can get both configuration state **and** operational state.\n",
    "\n",
    "### Verbose Interface Stats"
   ]
  },
  {
   "cell_type": "code",
   "execution_count": null,
   "metadata": {
    "collapsed": false
   },
   "outputs": [],
   "source": [
    "from ncclient.operations import TimeoutExpiredError\n",
    "\n",
    "filter = '''\n",
    "<interfaces xmlns=\"http://cisco.com/ns/yang/Cisco-IOS-XR-pfi-im-cmd-oper\"/>\n",
    "'''\n",
    "\n",
    "try:\n",
    "    c = m.get(filter=('subtree', filter))\n",
    "    pretty_print(c)\n",
    "except TimeoutExpiredError as e:\n",
    "    print(\"Operation timeout!\")\n",
    "except Exception as e:\n",
    "    print(\"severity={}, tag={}\".format(e.severity, e.tag))\n",
    "    print(e)"
   ]
  },
  {
   "cell_type": "markdown",
   "metadata": {},
   "source": [
    "### Slightly Less Verbose Interface Stats"
   ]
  },
  {
   "cell_type": "code",
   "execution_count": null,
   "metadata": {
    "collapsed": false
   },
   "outputs": [],
   "source": [
    "from ncclient.operations import TimeoutExpiredError\n",
    "\n",
    "filter = '''\n",
    "<interfaces xmlns=\"http://cisco.com/ns/yang/Cisco-IOS-XR-pfi-im-cmd-oper\">\n",
    "  <interface-briefs/>\n",
    "</interfaces>\n",
    "'''\n",
    "\n",
    "try:\n",
    "    c = m.get(filter=('subtree', filter))\n",
    "    pretty_print(c)\n",
    "except TimeoutExpiredError as e:\n",
    "    print(\"Operation timeout!\")\n",
    "except Exception as e:\n",
    "    print(\"severity={}, tag={}\".format(e.severity, e.tag))\n",
    "    print(e)"
   ]
  },
  {
   "cell_type": "markdown",
   "metadata": {},
   "source": [
    "### Zeroing In On A Specific Interface"
   ]
  },
  {
   "cell_type": "code",
   "execution_count": null,
   "metadata": {
    "collapsed": false
   },
   "outputs": [],
   "source": [
    "from ncclient.operations import TimeoutExpiredError\n",
    "\n",
    "filter = '''\n",
    "<interfaces xmlns=\"http://cisco.com/ns/yang/Cisco-IOS-XR-pfi-im-cmd-oper\">\n",
    "  <interface-xr>\n",
    "    <interface>\n",
    "      <interface-name>MgmtEth0/RP0/CPU0/0</interface-name>\n",
    "      <interface-statistics/>\n",
    "    </interface>\n",
    "  </interface-xr>\n",
    "</interfaces>\n",
    "'''\n",
    "\n",
    "try:\n",
    "    c = m.get(filter=('subtree', filter))\n",
    "    pretty_print(c)\n",
    "except TimeoutExpiredError as e:\n",
    "    print(\"Operation timeout!\")\n",
    "except Exception as e:\n",
    "    print(\"severity={}, tag={}\".format(e.severity, e.tag))\n",
    "    print(e)"
   ]
  },
  {
   "cell_type": "markdown",
   "metadata": {},
   "source": [
    "### Zeroing In On Specific Stats Across Interfaces"
   ]
  },
  {
   "cell_type": "code",
   "execution_count": null,
   "metadata": {
    "collapsed": false
   },
   "outputs": [],
   "source": [
    "from ncclient.operations import TimeoutExpiredError\n",
    "\n",
    "filter = '''\n",
    "<interfaces xmlns=\"http://cisco.com/ns/yang/Cisco-IOS-XR-pfi-im-cmd-oper\">\n",
    "  <interface-xr>\n",
    "    <interface>\n",
    "      <interface-name>MgmtEth0/RP0/CPU0/0</interface-name>\n",
    "      <interface-statistics>\n",
    "        <full-interface-stats>\n",
    "          <packets-received/>\n",
    "          <bytes-received/>\n",
    "          <packets-sent/>\n",
    "          <bytes-sent/>\n",
    "        </full-interface-stats>\n",
    "      </interface-statistics>\n",
    "    </interface>\n",
    "  </interface-xr>\n",
    "</interfaces>\n",
    "'''\n",
    "\n",
    "try:\n",
    "    c = m.get(filter=('subtree', filter))\n",
    "    pretty_print(c)\n",
    "except TimeoutExpiredError as e:\n",
    "    print(\"Operation timeout!\")\n",
    "except Exception as e:\n",
    "    print(\"severity={}, tag={}\".format(e.severity, e.tag))\n",
    "    print(e)"
   ]
  },
  {
   "cell_type": "markdown",
   "metadata": {
    "slideshow": {
     "slide_type": "-"
    }
   },
   "source": [
    "## Conclusion\n",
    "\n",
    "NETCONF presents a number of useful primitives that we looked at today:\n",
    "\n",
    "* get config\n",
    "* get\n",
    "* edit config\n",
    "* commit\n",
    "* get schema\n",
    "\n",
    "There are more, so follow up to understand more later.\n",
    "\n",
    "With the prmitives we ran through today, you can do basic model discovery, understand what features are supported, and understand what parts of models are not supported.\n",
    "\n",
    "Products such as NSO, or open source projects like ODL or the YDK, can use these basic capabilities to work with devices in a much more reliable way."
   ]
  }
 ],
 "metadata": {
  "kernelspec": {
   "display_name": "Python 2",
   "language": "python",
   "name": "python2"
  },
  "language_info": {
   "codemirror_mode": {
    "name": "ipython",
    "version": 2
   },
   "file_extension": ".py",
   "mimetype": "text/x-python",
   "name": "python",
   "nbconvert_exporter": "python",
   "pygments_lexer": "ipython2",
   "version": "2.7.11"
  }
 },
 "nbformat": 4,
 "nbformat_minor": 0
}
