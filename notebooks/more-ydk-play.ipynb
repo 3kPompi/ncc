{
 "cells": [
  {
   "cell_type": "code",
   "execution_count": 1,
   "metadata": {
    "collapsed": true
   },
   "outputs": [],
   "source": [
    "#\n",
    "# Only run this code if you want to see lots of debug!!\n",
    "#\n",
    "#import logging\n",
    "\n",
    "#handler = logging.StreamHandler()\n",
    "#for l in ['ncclient.transport.session', 'ncclient.operations.rpc']:\n",
    "#    logger = logging.getLogger(l)\n",
    "#    logger.addHandler(handler)\n",
    "#    logger.setLevel(logging.DEBUG)"
   ]
  },
  {
   "cell_type": "markdown",
   "metadata": {},
   "source": [
    "Put in your own details below...this IP address is a test machine for the DMI team in SJC."
   ]
  },
  {
   "cell_type": "code",
   "execution_count": 2,
   "metadata": {
    "collapsed": true
   },
   "outputs": [],
   "source": [
    "# ASR1K\n",
    "HOST = '172.27.255.40'\n",
    "PORT = 830\n",
    "USER = 'admin'\n",
    "PASS = 'admin'"
   ]
  },
  {
   "cell_type": "code",
   "execution_count": 1,
   "metadata": {
    "collapsed": true
   },
   "outputs": [],
   "source": [
    "# 3850\n",
    "HOST = '10.85.70.86'\n",
    "PORT = 830\n",
    "USER = 'admin'\n",
    "PASS = 'admin'"
   ]
  },
  {
   "cell_type": "markdown",
   "metadata": {},
   "source": [
    "### Basic YDK initialization"
   ]
  },
  {
   "cell_type": "code",
   "execution_count": 2,
   "metadata": {
    "collapsed": false
   },
   "outputs": [
    {
     "ename": "SSHError",
     "evalue": "Could not open socket to 10.85.70.86:830",
     "output_type": "error",
     "traceback": [
      "\u001b[0;31m---------------------------------------------------------------------------\u001b[0m",
      "\u001b[0;31mSSHError\u001b[0m                                  Traceback (most recent call last)",
      "\u001b[0;32m<ipython-input-2-0f0b73619f64>\u001b[0m in \u001b[0;36m<module>\u001b[0;34m()\u001b[0m\n\u001b[1;32m      9\u001b[0m     \u001b[0musername\u001b[0m\u001b[0;34m=\u001b[0m\u001b[0mUSER\u001b[0m\u001b[0;34m,\u001b[0m\u001b[0;34m\u001b[0m\u001b[0m\n\u001b[1;32m     10\u001b[0m     \u001b[0mpassword\u001b[0m\u001b[0;34m=\u001b[0m\u001b[0mPASS\u001b[0m\u001b[0;34m,\u001b[0m\u001b[0;34m\u001b[0m\u001b[0m\n\u001b[0;32m---> 11\u001b[0;31m     protocol='ssh')\n\u001b[0m\u001b[1;32m     12\u001b[0m \u001b[0;34m\u001b[0m\u001b[0m\n\u001b[1;32m     13\u001b[0m \u001b[0;31m# Initialize a CRUD service\u001b[0m\u001b[0;34m\u001b[0m\u001b[0;34m\u001b[0m\u001b[0m\n",
      "\u001b[0;32m/opt/git-repos/ncc/v/lib/python2.7/site-packages/ydk/providers/netconf_provider.pyc\u001b[0m in \u001b[0;36m__init__\u001b[0;34m(self, **kwargs)\u001b[0m\n\u001b[1;32m     67\u001b[0m \u001b[0;34m\u001b[0m\u001b[0m\n\u001b[1;32m     68\u001b[0m         \u001b[0mself\u001b[0m\u001b[0;34m.\u001b[0m\u001b[0mnetconf_sp_logger\u001b[0m \u001b[0;34m=\u001b[0m \u001b[0mlogging\u001b[0m\u001b[0;34m.\u001b[0m\u001b[0mgetLogger\u001b[0m\u001b[0;34m(\u001b[0m\u001b[0m__name__\u001b[0m\u001b[0;34m)\u001b[0m\u001b[0;34m\u001b[0m\u001b[0m\n\u001b[0;32m---> 69\u001b[0;31m         \u001b[0mself\u001b[0m\u001b[0;34m.\u001b[0m\u001b[0m_connect\u001b[0m\u001b[0;34m(\u001b[0m\u001b[0;34m)\u001b[0m\u001b[0;34m\u001b[0m\u001b[0m\n\u001b[0m\u001b[1;32m     70\u001b[0m         self.netconf_sp_logger.info('NetconfServiceProvider connected to %s:%s using %s'\n\u001b[1;32m     71\u001b[0m                                % (self.address, self.port, self.protocol))\n",
      "\u001b[0;32m/opt/git-repos/ncc/v/lib/python2.7/site-packages/ydk/providers/netconf_provider.pyc\u001b[0m in \u001b[0;36m_connect\u001b[0;34m(self)\u001b[0m\n\u001b[1;32m     73\u001b[0m     \u001b[0;32mdef\u001b[0m \u001b[0m_connect\u001b[0m\u001b[0;34m(\u001b[0m\u001b[0mself\u001b[0m\u001b[0;34m)\u001b[0m\u001b[0;34m:\u001b[0m\u001b[0;34m\u001b[0m\u001b[0m\n\u001b[1;32m     74\u001b[0m         \u001b[0mself\u001b[0m\u001b[0;34m.\u001b[0m\u001b[0msp_instance\u001b[0m \u001b[0;34m=\u001b[0m \u001b[0m_NCClientSPPlugin\u001b[0m\u001b[0;34m(\u001b[0m\u001b[0mself\u001b[0m\u001b[0;34m.\u001b[0m\u001b[0mtimeout\u001b[0m\u001b[0;34m)\u001b[0m\u001b[0;34m\u001b[0m\u001b[0m\n\u001b[0;32m---> 75\u001b[0;31m         \u001b[0mself\u001b[0m\u001b[0;34m.\u001b[0m\u001b[0msp_instance\u001b[0m\u001b[0;34m.\u001b[0m\u001b[0mconnect\u001b[0m\u001b[0;34m(\u001b[0m\u001b[0mself\u001b[0m\u001b[0;34m.\u001b[0m\u001b[0msession_config\u001b[0m\u001b[0;34m)\u001b[0m\u001b[0;34m\u001b[0m\u001b[0m\n\u001b[0m\u001b[1;32m     76\u001b[0m \u001b[0;34m\u001b[0m\u001b[0m\n\u001b[1;32m     77\u001b[0m     \u001b[0;32mdef\u001b[0m \u001b[0mclose\u001b[0m\u001b[0;34m(\u001b[0m\u001b[0mself\u001b[0m\u001b[0;34m)\u001b[0m\u001b[0;34m:\u001b[0m\u001b[0;34m\u001b[0m\u001b[0m\n",
      "\u001b[0;32m/opt/git-repos/ncc/v/lib/python2.7/site-packages/ydk/providers/_provider_plugin.pyc\u001b[0m in \u001b[0;36mconnect\u001b[0;34m(self, session_config)\u001b[0m\n\u001b[1;32m    226\u001b[0m                 \u001b[0mlook_for_keys\u001b[0m\u001b[0;34m=\u001b[0m\u001b[0mFalse\u001b[0m\u001b[0;34m,\u001b[0m\u001b[0;34m\u001b[0m\u001b[0m\n\u001b[1;32m    227\u001b[0m                 \u001b[0mallow_agent\u001b[0m\u001b[0;34m=\u001b[0m\u001b[0mFalse\u001b[0m\u001b[0;34m,\u001b[0m\u001b[0;34m\u001b[0m\u001b[0m\n\u001b[0;32m--> 228\u001b[0;31m                 hostkey_verify=False)\n\u001b[0m\u001b[1;32m    229\u001b[0m         \u001b[0;32melif\u001b[0m \u001b[0;34m(\u001b[0m\u001b[0msession_config\u001b[0m\u001b[0;34m.\u001b[0m\u001b[0mtransportMode\u001b[0m \u001b[0;34m==\u001b[0m \u001b[0m_SessionTransportMode\u001b[0m\u001b[0;34m.\u001b[0m\u001b[0mTCP\u001b[0m\u001b[0;34m)\u001b[0m\u001b[0;34m:\u001b[0m\u001b[0;34m\u001b[0m\u001b[0m\n\u001b[1;32m    230\u001b[0m             self._nc_manager = manager.connect(\n",
      "\u001b[0;32m/opt/git-repos/ncc/v/lib/python2.7/site-packages/ncclient/manager.pyc\u001b[0m in \u001b[0;36mconnect\u001b[0;34m(*args, **kwds)\u001b[0m\n\u001b[1;32m    147\u001b[0m         \u001b[0mhost\u001b[0m \u001b[0;34m=\u001b[0m \u001b[0mkwds\u001b[0m\u001b[0;34m[\u001b[0m\u001b[0;34m\"host\"\u001b[0m\u001b[0;34m]\u001b[0m\u001b[0;34m\u001b[0m\u001b[0m\n\u001b[1;32m    148\u001b[0m         \u001b[0;32mif\u001b[0m \u001b[0mhost\u001b[0m \u001b[0;34m!=\u001b[0m \u001b[0;34m'localhost'\u001b[0m\u001b[0;34m:\u001b[0m\u001b[0;34m\u001b[0m\u001b[0m\n\u001b[0;32m--> 149\u001b[0;31m             \u001b[0;32mreturn\u001b[0m \u001b[0mconnect_ssh\u001b[0m\u001b[0;34m(\u001b[0m\u001b[0;34m*\u001b[0m\u001b[0margs\u001b[0m\u001b[0;34m,\u001b[0m \u001b[0;34m**\u001b[0m\u001b[0mkwds\u001b[0m\u001b[0;34m)\u001b[0m\u001b[0;34m\u001b[0m\u001b[0m\n\u001b[0m\u001b[1;32m    150\u001b[0m         \u001b[0;32melse\u001b[0m\u001b[0;34m:\u001b[0m\u001b[0;34m\u001b[0m\u001b[0m\n\u001b[1;32m    151\u001b[0m             \u001b[0;32mreturn\u001b[0m \u001b[0mconnect_ioproc\u001b[0m\u001b[0;34m(\u001b[0m\u001b[0;34m*\u001b[0m\u001b[0margs\u001b[0m\u001b[0;34m,\u001b[0m \u001b[0;34m**\u001b[0m\u001b[0mkwds\u001b[0m\u001b[0;34m)\u001b[0m\u001b[0;34m\u001b[0m\u001b[0m\n",
      "\u001b[0;32m/opt/git-repos/ncc/v/lib/python2.7/site-packages/ncclient/manager.pyc\u001b[0m in \u001b[0;36mconnect_ssh\u001b[0;34m(*args, **kwds)\u001b[0m\n\u001b[1;32m    116\u001b[0m \u001b[0;34m\u001b[0m\u001b[0m\n\u001b[1;32m    117\u001b[0m     \u001b[0;32mtry\u001b[0m\u001b[0;34m:\u001b[0m\u001b[0;34m\u001b[0m\u001b[0m\n\u001b[0;32m--> 118\u001b[0;31m        \u001b[0msession\u001b[0m\u001b[0;34m.\u001b[0m\u001b[0mconnect\u001b[0m\u001b[0;34m(\u001b[0m\u001b[0;34m*\u001b[0m\u001b[0margs\u001b[0m\u001b[0;34m,\u001b[0m \u001b[0;34m**\u001b[0m\u001b[0mkwds\u001b[0m\u001b[0;34m)\u001b[0m\u001b[0;34m\u001b[0m\u001b[0m\n\u001b[0m\u001b[1;32m    119\u001b[0m     \u001b[0;32mexcept\u001b[0m \u001b[0mException\u001b[0m \u001b[0;32mas\u001b[0m \u001b[0mex\u001b[0m\u001b[0;34m:\u001b[0m\u001b[0;34m\u001b[0m\u001b[0m\n\u001b[1;32m    120\u001b[0m         \u001b[0;32mif\u001b[0m \u001b[0msession\u001b[0m\u001b[0;34m.\u001b[0m\u001b[0mtransport\u001b[0m\u001b[0;34m:\u001b[0m\u001b[0;34m\u001b[0m\u001b[0m\n",
      "\u001b[0;32m/opt/git-repos/ncc/v/lib/python2.7/site-packages/ncclient/transport/ssh.pyc\u001b[0m in \u001b[0;36mconnect\u001b[0;34m(self, host, port, timeout, unknown_host_cb, username, password, key_filename, allow_agent, hostkey_verify, look_for_keys, ssh_config)\u001b[0m\n\u001b[1;32m    370\u001b[0m                 \u001b[0;32mbreak\u001b[0m\u001b[0;34m\u001b[0m\u001b[0m\n\u001b[1;32m    371\u001b[0m             \u001b[0;32melse\u001b[0m\u001b[0;34m:\u001b[0m\u001b[0;34m\u001b[0m\u001b[0m\n\u001b[0;32m--> 372\u001b[0;31m                 \u001b[0;32mraise\u001b[0m \u001b[0mSSHError\u001b[0m\u001b[0;34m(\u001b[0m\u001b[0;34m\"Could not open socket to %s:%s\"\u001b[0m \u001b[0;34m%\u001b[0m \u001b[0;34m(\u001b[0m\u001b[0mhost\u001b[0m\u001b[0;34m,\u001b[0m \u001b[0mport\u001b[0m\u001b[0;34m)\u001b[0m\u001b[0;34m)\u001b[0m\u001b[0;34m\u001b[0m\u001b[0m\n\u001b[0m\u001b[1;32m    373\u001b[0m \u001b[0;34m\u001b[0m\u001b[0m\n\u001b[1;32m    374\u001b[0m         \u001b[0mt\u001b[0m \u001b[0;34m=\u001b[0m \u001b[0mself\u001b[0m\u001b[0;34m.\u001b[0m\u001b[0m_transport\u001b[0m \u001b[0;34m=\u001b[0m \u001b[0mparamiko\u001b[0m\u001b[0;34m.\u001b[0m\u001b[0mTransport\u001b[0m\u001b[0;34m(\u001b[0m\u001b[0msock\u001b[0m\u001b[0;34m)\u001b[0m\u001b[0;34m\u001b[0m\u001b[0m\n",
      "\u001b[0;31mSSHError\u001b[0m: Could not open socket to 10.85.70.86:830"
     ]
    }
   ],
   "source": [
    "from ydk.types import Empty\n",
    "from ydk.errors import YPYError\n",
    "from ydk.services import CRUDService\n",
    "from ydk.providers import NetconfServiceProvider\n",
    "\n",
    "session = NetconfServiceProvider(\n",
    "    address=HOST,\n",
    "    port=PORT,\n",
    "    username=USER,\n",
    "    password=PASS,\n",
    "    protocol='ssh')\n",
    "\n",
    "# Initialize a CRUD service\n",
    "c = CRUDService()"
   ]
  },
  {
   "cell_type": "markdown",
   "metadata": {},
   "source": [
    "### Some helpers to print, create and delete Loopbacks"
   ]
  },
  {
   "cell_type": "code",
   "execution_count": 4,
   "metadata": {
    "collapsed": false
   },
   "outputs": [],
   "source": [
    "import ydk.models.ned as ned\n",
    "\n",
    "# create a Loopback\n",
    "def create_loopback(index):\n",
    "    new_loopback = ned.Native.Interface.Loopback()\n",
    "    new_loopback.name = index\n",
    "    c.create(session, new_loopback)\n",
    "\n",
    "# create a list of Loopbacks\n",
    "def create_loopback_list(index_list):\n",
    "    intf_container = ned.Native.Interface()\n",
    "    for index in index_list:\n",
    "        new_loopback = ned.Native.Interface.Loopback()\n",
    "        new_loopback.name = index\n",
    "        new_loopback.description = \"Created Interface {}\".format(index)\n",
    "        intf_container.loopback.append(new_loopback)\n",
    "    c.create(session, intf_container)\n",
    "\n",
    "# delete a Loopback\n",
    "def delete_loopback(index):\n",
    "    new_loopback = ned.Native.Interface.Loopback()\n",
    "    new_loopback.name = index\n",
    "    c.delete(session, new_loopback)\n",
    "\n",
    "def print_loopbacks():\n",
    "    q_loopbacks = ned.Native.Interface.Loopback()\n",
    "    loopbacks = c.read(session, q_loopbacks)\n",
    "    print \"Loopbacks:\"\n",
    "    for l in loopbacks:\n",
    "        print \"  {} {}\".format(l.name, l.description)"
   ]
  },
  {
   "cell_type": "raw",
   "metadata": {},
   "source": [
    "print_loopback()"
   ]
  },
  {
   "cell_type": "code",
   "execution_count": 5,
   "metadata": {
    "collapsed": false
   },
   "outputs": [
    {
     "name": "stdout",
     "output_type": "stream",
     "text": [
      "Loopbacks:\n",
      "  0 None\n",
      "  1 None\n",
      "  2 None\n",
      "  123 None\n",
      "  9999 LB 9999\n",
      "Loopbacks:\n",
      "  0 None\n",
      "  1 None\n",
      "  2 None\n",
      "  9999 LB 9999\n"
     ]
    }
   ],
   "source": [
    "create_loopback(123)\n",
    "print_loopbacks()\n",
    "delete_loopback(123)\n",
    "print_loopbacks()"
   ]
  },
  {
   "cell_type": "code",
   "execution_count": 6,
   "metadata": {
    "collapsed": false
   },
   "outputs": [
    {
     "name": "stdout",
     "output_type": "stream",
     "text": [
      "Loopbacks:\n",
      "  0 None\n",
      "  1 None\n",
      "  2 None\n",
      "  5 Created Interface 5\n",
      "  6 Created Interface 6\n",
      "  7 Created Interface 7\n",
      "  9999 LB 9999\n"
     ]
    }
   ],
   "source": [
    "create_loopback_list([5,6,7])\n",
    "print_loopbacks()"
   ]
  },
  {
   "cell_type": "code",
   "execution_count": 7,
   "metadata": {
    "collapsed": false
   },
   "outputs": [
    {
     "name": "stdout",
     "output_type": "stream",
     "text": [
      "Loopbacks:\n",
      "  0 None\n",
      "  1 None\n",
      "  2 None\n",
      "  9999 LB 9999\n"
     ]
    }
   ],
   "source": [
    "delete_loopback(5)\n",
    "delete_loopback(6)\n",
    "delete_loopback(7)\n",
    "print_loopbacks()"
   ]
  },
  {
   "cell_type": "markdown",
   "metadata": {},
   "source": [
    "### Some helpers to print, create and delete Loopbacks"
   ]
  },
  {
   "cell_type": "code",
   "execution_count": 8,
   "metadata": {
    "collapsed": true
   },
   "outputs": [],
   "source": [
    "import ydk.models.ned as ned\n",
    "\n",
    "def print_vrfs():\n",
    "    q_vrf = ned.Native.Vrf()\n",
    "    vrfs = c.read(session, q_vrf)\n",
    "    print(\"VRFs:\")\n",
    "    for v in vrfs.definition:\n",
    "        print(\"  {}\".format(v.name))\n",
    "\n",
    "# add a new VRF\n",
    "def add_vrf(name, rd):\n",
    "    vrfs = ned.Native.Vrf()\n",
    "    new_vrf = ned.Native.Vrf.Definition()\n",
    "    new_vrf.name = name\n",
    "    new_vrf.rd = rd\n",
    "    vrfs.definition.append(new_vrf)\n",
    "    c.create(session, vrfs)\n",
    "\n",
    "# delete a VRF\n",
    "def delete_vrf(name):\n",
    "    to_delete = ned.Native.Vrf.Definition()\n",
    "    to_delete.name = name\n",
    "    c.delete(session, to_delete)"
   ]
  },
  {
   "cell_type": "code",
   "execution_count": 9,
   "metadata": {
    "collapsed": false
   },
   "outputs": [
    {
     "name": "stdout",
     "output_type": "stream",
     "text": [
      "VRFs:\n",
      "  Mgmt-intf\n",
      "  mpls-vrf\n"
     ]
    }
   ],
   "source": [
    "print_vrfs()"
   ]
  },
  {
   "cell_type": "code",
   "execution_count": 10,
   "metadata": {
    "collapsed": false
   },
   "outputs": [
    {
     "name": "stdout",
     "output_type": "stream",
     "text": [
      "VRFs:\n",
      "  Mgmt-intf\n",
      "  bar\n",
      "  foo\n",
      "  mpls-vrf\n"
     ]
    }
   ],
   "source": [
    "add_vrf('foo', '1:1')\n",
    "add_vrf('bar', '1:1')\n",
    "\n",
    "print_vrfs()"
   ]
  },
  {
   "cell_type": "code",
   "execution_count": 11,
   "metadata": {
    "collapsed": false
   },
   "outputs": [
    {
     "name": "stdout",
     "output_type": "stream",
     "text": [
      "VRFs:\n",
      "  Mgmt-intf\n",
      "  mpls-vrf\n"
     ]
    }
   ],
   "source": [
    "delete_vrf('foo')\n",
    "delete_vrf('bar')\n",
    "\n",
    "print_vrfs()"
   ]
  }
 ],
 "metadata": {
  "kernelspec": {
   "display_name": "Python 2",
   "language": "python",
   "name": "python2"
  },
  "language_info": {
   "codemirror_mode": {
    "name": "ipython",
    "version": 2
   },
   "file_extension": ".py",
   "mimetype": "text/x-python",
   "name": "python",
   "nbconvert_exporter": "python",
   "pygments_lexer": "ipython2",
   "version": "2.7.11"
  }
 },
 "nbformat": 4,
 "nbformat_minor": 0
}
