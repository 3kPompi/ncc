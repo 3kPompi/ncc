{
 "cells": [
  {
   "cell_type": "code",
   "execution_count": 36,
   "metadata": {
    "collapsed": false
   },
   "outputs": [],
   "source": [
    "import ipaddress\n",
    "import random\n",
    "import jinja2\n",
    "\n",
    "net1 = ipaddress.ip_network(u'192.168.0.0/16')\n",
    "net2 = ipaddress.ip_network(u'172.16.0.0/16')\n",
    "\n",
    "alist1 = list(net1)\n",
    "alist2 = list(net2)\n",
    "\n",
    "random.shuffle(alist1)\n",
    "random.shuffle(alist2)"
   ]
  },
  {
   "cell_type": "code",
   "execution_count": 37,
   "metadata": {
    "collapsed": false
   },
   "outputs": [],
   "source": [
    "acl_raw = []\n",
    "for n, (src, dst) in enumerate(zip(alist1, alist2)):\n",
    "    acl_raw.append((n, src, dst))"
   ]
  },
  {
   "cell_type": "code",
   "execution_count": 38,
   "metadata": {
    "collapsed": true
   },
   "outputs": [],
   "source": [
    "HOST = '127.0.0.1'\n",
    "PORT = 8305\n",
    "USER = 'cisco'\n",
    "PASS = 'cisco'"
   ]
  },
  {
   "cell_type": "code",
   "execution_count": 47,
   "metadata": {
    "collapsed": false
   },
   "outputs": [],
   "source": [
    "from ncclient import manager\n",
    "from lxml import etree\n",
    "\n",
    "def pretty_print(nc_retval):\n",
    "        print(etree.tostring(etree.fromstring(nc_retval.data_xml), pretty_print=True))\n",
    "        \n",
    "def my_unknown_host_cb(host, fingerprint):\n",
    "    return True\n",
    "    \n",
    "m = manager.connect(host=HOST, port=PORT, username=USER, password=PASS,\n",
    "                    timeout=86400,\n",
    "                    allow_agent=False,\n",
    "                    look_for_keys=False,\n",
    "                    hostkey_verify=False,\n",
    "                    unknown_host_cb=my_unknown_host_cb)"
   ]
  },
  {
   "cell_type": "code",
   "execution_count": 48,
   "metadata": {
    "collapsed": false
   },
   "outputs": [],
   "source": [
    "ACL_TEMPLATE = jinja2.Template('''<config>\n",
    "  <ipv4-acl-and-prefix-list xmlns=\"http://cisco.com/ns/yang/Cisco-IOS-XR-ipv4-acl-cfg\">\n",
    "   <accesses>\n",
    "    <access>\n",
    "     <access-list-name>{{ACL_NAME}}</access-list-name>\n",
    "     <access-list-entries>\n",
    "      {% for N, A, B in LIST %}<access-list-entry>\n",
    "       <sequence-number>{{N}}</sequence-number>\n",
    "       <grant>permit</grant>\n",
    "       <source-network>\n",
    "        <source-address>{{A}}</source-address>\n",
    "       </source-network>\n",
    "       <destination-network>\n",
    "        <destination-address>{{B}}</destination-address>\n",
    "       </destination-network>\n",
    "       <sequence-str>10</sequence-str>{% endfor %}\n",
    "      </access-list-entry>\n",
    "     </access-list-entries>\n",
    "    </access>\n",
    "   </accesses>\n",
    "  </ipv4-acl-and-prefix-list>\n",
    " </config>''')"
   ]
  },
  {
   "cell_type": "code",
   "execution_count": 49,
   "metadata": {
    "collapsed": false
   },
   "outputs": [],
   "source": [
    "big_acl = ACL_TEMPLATE.render(ACL_NAME='BIG', LIST=acl_raw)"
   ]
  },
  {
   "cell_type": "code",
   "execution_count": 50,
   "metadata": {
    "collapsed": false
   },
   "outputs": [
    {
     "name": "stdout",
     "output_type": "stream",
     "text": [
      "23862754\n"
     ]
    }
   ],
   "source": [
    "print(len(big_acl))"
   ]
  },
  {
   "cell_type": "code",
   "execution_count": 46,
   "metadata": {
    "collapsed": false
   },
   "outputs": [
    {
     "ename": "NameError",
     "evalue": "name 'TimeoutExpiredError' is not defined",
     "output_type": "error",
     "traceback": [
      "\u001b[0;31m---------------------------------------------------------------------------\u001b[0m",
      "\u001b[0;31mNameError\u001b[0m                                 Traceback (most recent call last)",
      "\u001b[0;32m<ipython-input-46-1472d04f04bf>\u001b[0m in \u001b[0;36m<module>\u001b[0;34m()\u001b[0m\n\u001b[1;32m      4\u001b[0m     \u001b[0mc\u001b[0m \u001b[0;34m=\u001b[0m \u001b[0mm\u001b[0m\u001b[0;34m.\u001b[0m\u001b[0mget_config\u001b[0m\u001b[0;34m(\u001b[0m\u001b[0msource\u001b[0m\u001b[0;34m=\u001b[0m\u001b[0;34m'running'\u001b[0m\u001b[0;34m,\u001b[0m \u001b[0mfilter\u001b[0m\u001b[0;34m=\u001b[0m\u001b[0;34m(\u001b[0m\u001b[0;34m'subtree'\u001b[0m\u001b[0;34m,\u001b[0m \u001b[0mfilter\u001b[0m\u001b[0;34m)\u001b[0m\u001b[0;34m)\u001b[0m\u001b[0;34m\u001b[0m\u001b[0m\n\u001b[1;32m      5\u001b[0m     \u001b[0mpretty_print\u001b[0m\u001b[0;34m(\u001b[0m\u001b[0mc\u001b[0m\u001b[0;34m)\u001b[0m\u001b[0;34m\u001b[0m\u001b[0m\n\u001b[0;32m----> 6\u001b[0;31m \u001b[0;32mexcept\u001b[0m \u001b[0mTimeoutExpiredError\u001b[0m \u001b[0;32mas\u001b[0m \u001b[0me\u001b[0m\u001b[0;34m:\u001b[0m\u001b[0;34m\u001b[0m\u001b[0m\n\u001b[0m\u001b[1;32m      7\u001b[0m     \u001b[0;32mprint\u001b[0m\u001b[0;34m(\u001b[0m\u001b[0;34m\"Operation timeout!\"\u001b[0m\u001b[0;34m)\u001b[0m\u001b[0;34m\u001b[0m\u001b[0m\n\u001b[1;32m      8\u001b[0m \u001b[0;32mexcept\u001b[0m \u001b[0mException\u001b[0m \u001b[0;32mas\u001b[0m \u001b[0me\u001b[0m\u001b[0;34m:\u001b[0m\u001b[0;34m\u001b[0m\u001b[0m\n",
      "\u001b[0;31mNameError\u001b[0m: name 'TimeoutExpiredError' is not defined"
     ]
    }
   ],
   "source": [
    "try:\n",
    "    m.edit_config(big_acl, target='candidate', format='xml')\n",
    "    m.commit()\n",
    "    c = m.get_config(source='running', filter=('subtree', filter))\n",
    "    pretty_print(c)\n",
    "except TimeoutExpiredError as e:\n",
    "    print(\"Operation timeout!\")\n",
    "except Exception as e:\n",
    "    print(\"severity={}, tag={}\".format(e.severity, e.tag))\n",
    "    print(e)"
   ]
  },
  {
   "cell_type": "code",
   "execution_count": 31,
   "metadata": {
    "collapsed": false
   },
   "outputs": [
    {
     "name": "stdout",
     "output_type": "stream",
     "text": [
      "<data xmlns=\"urn:ietf:params:xml:ns:netconf:base:1.0\" xmlns:nc=\"urn:ietf:params:xml:ns:netconf:base:1.0\">\n",
      "  <ipv4-acl-and-prefix-list xmlns=\"http://cisco.com/ns/yang/Cisco-IOS-XR-ipv4-acl-cfg\">\n",
      "   <accesses>\n",
      "    <access>\n",
      "     <access-list-name>BIG</access-list-name>\n",
      "     <access-list-entries>\n",
      "      <access-list-entry>\n",
      "       <sequence-number>10</sequence-number>\n",
      "       <grant>permit</grant>\n",
      "       <source-network>\n",
      "        <source-address>192.168.91.174</source-address>\n",
      "       </source-network>\n",
      "       <destination-network>\n",
      "        <destination-address>172.16.22.46</destination-address>\n",
      "       </destination-network>\n",
      "       <sequence-str>10</sequence-str>\n",
      "      </access-list-entry>\n",
      "     </access-list-entries>\n",
      "    </access>\n",
      "   </accesses>\n",
      "  </ipv4-acl-and-prefix-list>\n",
      " </data>\n",
      "\n"
     ]
    }
   ],
   "source": [
    "filter = '''<ipv4-acl-and-prefix-list xmlns=\"http://cisco.com/ns/yang/Cisco-IOS-XR-ipv4-acl-cfg\"/>'''\n",
    "\n",
    "c = m.get_config(source='running', filter=('subtree', filter))\n",
    "pretty_print(c)"
   ]
  }
 ],
 "metadata": {
  "kernelspec": {
   "display_name": "Python 2",
   "language": "python",
   "name": "python2"
  },
  "language_info": {
   "codemirror_mode": {
    "name": "ipython",
    "version": 2
   },
   "file_extension": ".py",
   "mimetype": "text/x-python",
   "name": "python",
   "nbconvert_exporter": "python",
   "pygments_lexer": "ipython2",
   "version": "2.7.11"
  }
 },
 "nbformat": 4,
 "nbformat_minor": 0
}
