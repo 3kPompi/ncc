{
 "cells": [
  {
   "cell_type": "markdown",
   "metadata": {},
   "source": [
    "Revisions:\n",
    "\n",
    "* 07/16/2016 -- Updated for ncclient 0.5.2"
   ]
  },
  {
   "cell_type": "markdown",
   "metadata": {},
   "source": [
    "# GSP SEVT NETCONF/YANG\n",
    "\n",
    "This notebook goes through a set of examples with a XRv9000 virtual platform. The goal is to show how NETCONF/YANG can be simply leveraged with IOS-XR to perform a range of tasks for the customer. We will cover topics like:\n",
    "\n",
    "* Basic connectivity\n",
    "* Why we really want to use some form of client library\n",
    "* Getting started with a Python client like [ncclient](https://github/com/ncclient/ncclient)\n",
    "* Model and feature discovery\n",
    "* Querying and configuring features\n",
    "\n",
    "First, let's talk a little about the environment being used here. This is all run inside **jupyter notebooks**, which some may already be familiar with as **iPython notebooks**.\n",
    "\n",
    "A jupyter notebook lets us mix text and code and provides a simple way to experiment with Python code.\n",
    "\n",
    "## Useful Snippets\n",
    "\n",
    "Let's define some useful little snippets of code that we might want to run to define utilities or to enable debugs, set variables for use, etc.\n",
    "\n",
    "### Enable Debugging\n",
    "\n",
    "The ncclient libary can generate vast amounts of debug information via standard Python logging. The code fragment below shows how to enable this. But the logging is **vast**! You have been warned!"
   ]
  },
  {
   "cell_type": "code",
   "execution_count": null,
   "metadata": {
    "collapsed": false,
    "scrolled": true
   },
   "outputs": [],
   "source": [
    "import logging\n",
    "\n",
    "handler = logging.StreamHandler()\n",
    "for l in ['ncclient.transport.ssh', 'ncclient.transport.session', 'ncclient.operations.rpc']:\n",
    "\n",
    "    logger = logging.getLogger(l)\n",
    "    logger.addHandler(handler)\n",
    "    logger.setLevel(logging.DEBUG)"
   ]
  },
  {
   "cell_type": "markdown",
   "metadata": {},
   "source": [
    "## Connecting to a Device\n",
    "\n",
    "First, we need to make sure the device itself has NETCONF/YANG enabled. It's pretty simple:\n",
    "\n",
    "```\n",
    "ssh server v2\n",
    "ssh server netconf\n",
    "netconf-yang agent ssh\n",
    "```\n",
    "\n",
    "You also need to generate a host key from the exec prompt:\n",
    "\n",
    "```\n",
    "crypto key generate rsa\n",
    "```\n",
    "\n",
    "Next, let's define some variables that let us attach to the device. I'm connecting through an SSH tunnel to my device running on a UCS server in the lab. You should replace the variables below with the device of your choice:"
   ]
  },
  {
   "cell_type": "code",
   "execution_count": null,
   "metadata": {
    "collapsed": true
   },
   "outputs": [],
   "source": [
    "# Running over an SSH tunnel!\n",
    "HOST = '127.0.0.1'\n",
    "PORT = 8303\n",
    "USER = 'cisco'\n",
    "PASS = 'cisco'"
   ]
  },
  {
   "cell_type": "code",
   "execution_count": null,
   "metadata": {
    "collapsed": true
   },
   "outputs": [],
   "source": [
    "# Mark's ASR1K\n",
    "HOST = '172.27.255.40'\n",
    "PORT = 830\n",
    "USER = 'admin'\n",
    "PASS = 'admin'"
   ]
  },
  {
   "cell_type": "markdown",
   "metadata": {},
   "source": [
    "Now let's establish a NETCONF session to that box using ncclient. Set the timeout to 600 seconds to allow for long-running operations."
   ]
  },
  {
   "cell_type": "code",
   "execution_count": null,
   "metadata": {
    "collapsed": false,
    "scrolled": true
   },
   "outputs": [],
   "source": [
    "from ncclient import manager\n",
    "from lxml import etree\n",
    "\n",
    "def pretty_print(nc_retval):\n",
    "    '''The ncclient library works with XML. It takes XML in and gives XML back.\n",
    "    Yeah, I know it's not JSON, so we need to make it a little easier to read,\n",
    "    so let's define a pretty printer we can use with ncclient responses\n",
    "    '''\n",
    "    print(etree.tostring(nc_retval.data_ele, pretty_print=True))\n",
    "\n",
    "def my_unknown_host_cb(host, fingerprint):\n",
    "    return True\n",
    "\n",
    "m = manager.connect(host=HOST, port=PORT, username=USER, password=PASS,\n",
    "                    timeout=600,\n",
    "                    allow_agent=False,\n",
    "                    look_for_keys=False,\n",
    "                    hostkey_verify=False,\n",
    "                    unknown_host_cb=my_unknown_host_cb)"
   ]
  },
  {
   "cell_type": "markdown",
   "metadata": {},
   "source": [
    "## Capabilities"
   ]
  },
  {
   "cell_type": "markdown",
   "metadata": {},
   "source": [
    "Let's look at the capabilities presented by the thing we've just connected to:"
   ]
  },
  {
   "cell_type": "code",
   "execution_count": null,
   "metadata": {
    "collapsed": false,
    "scrolled": true
   },
   "outputs": [],
   "source": [
    "for item in iter(m.server_capabilities):\n",
    "    print(item)"
   ]
  },
  {
   "cell_type": "markdown",
   "metadata": {
    "collapsed": true
   },
   "source": [
    "Ok, that's a bit messy, so let's tidy it up a bit and look, initially, at all the base netconf capabilities:"
   ]
  },
  {
   "cell_type": "code",
   "execution_count": null,
   "metadata": {
    "collapsed": false,
    "scrolled": false
   },
   "outputs": [],
   "source": [
    "nc_caps = [c for c in m.server_capabilities if c.startswith('urn:ietf:params:netconf')]\n",
    "for c in nc_caps:\n",
    "    print(c)"
   ]
  },
  {
   "cell_type": "markdown",
   "metadata": {
    "collapsed": true
   },
   "source": [
    "And now let's look at the capabilities that are related to model support:"
   ]
  },
  {
   "cell_type": "code",
   "execution_count": null,
   "metadata": {
    "collapsed": false,
    "scrolled": true
   },
   "outputs": [],
   "source": [
    "import re\n",
    "\n",
    "for c in m.server_capabilities:\n",
    "    model = re.search('module=([^&]*)&', c)\n",
    "    if model is not None:\n",
    "        print(\"{}\".format(model.group(1)))\n",
    "\n",
    "        revision = re.search('revision=([0-9]{4}-[0-9]{2}-[0-9]{2})', c)\n",
    "        if revision is not None:\n",
    "            print(\"  revision = {}\".format(revision.group(1)))\n",
    "\n",
    "        deviations = re.search('deviations=([a-zA-Z0-9\\-,]+)($|&)',c)\n",
    "        if deviations is not None:\n",
    "            print(\"  deviations = {}\".format(deviations.group(1)))\n",
    "\n",
    "        features = re.search('features=([a-zA-Z0-9\\-,]+)($|&)',c)\n",
    "        if features is not None:\n",
    "            print(\"  features = {}\".format(features.group(1)))"
   ]
  },
  {
   "cell_type": "markdown",
   "metadata": {},
   "source": [
    "## Schema Discovery\n",
    "\n",
    "Building on the parsing of the capabilities we saw above, NETCONF/YANG can also let a client discover more details on the schemas supported by a box.\n",
    "\n",
    "But why do we care? Let's think back to what we talked about earlier. About the need for boxes to describe themselves to their clients. To expose their \"model\".\n",
    "\n",
    "Let's pick a base model that looks like it may do something interesting, for example ```Cisco-IOS-XR-ifmgr-cfg```, and let's download the schema. The ncclient library provides a nice, simple function for that."
   ]
  },
  {
   "cell_type": "code",
   "execution_count": null,
   "metadata": {
    "collapsed": false
   },
   "outputs": [],
   "source": [
    "SCHEMA_TO_GET = 'Cisco-IOS-XR-cdp-cfg'\n",
    "c = m.get_schema(SCHEMA_TO_GET)\n",
    "print c.data"
   ]
  },
  {
   "cell_type": "markdown",
   "metadata": {},
   "source": [
    "Maybe we can use pyang to do something more interesting?"
   ]
  },
  {
   "cell_type": "code",
   "execution_count": null,
   "metadata": {
    "collapsed": false
   },
   "outputs": [],
   "source": [
    "from subprocess import Popen, PIPE, STDOUT\n",
    "\n",
    "p = Popen(['pyang', '-f', 'tree'], stdout=PIPE, stdin=PIPE, stderr=PIPE)\n",
    "stdout_data = p.communicate(input=c.data)[0]\n",
    "\n",
    "print stdout_data"
   ]
  },
  {
   "cell_type": "markdown",
   "metadata": {},
   "source": [
    "Or we can use ```ietf-netconf-monitoring```:"
   ]
  },
  {
   "cell_type": "code",
   "execution_count": null,
   "metadata": {
    "collapsed": false
   },
   "outputs": [],
   "source": [
    "import jxmlease\n",
    "\n",
    "filter = '''\n",
    "<netconf-state xmlns=\"urn:ietf:params:xml:ns:yang:ietf-netconf-monitoring\">\n",
    "  <schemas/>\n",
    "</netconf-state>'''\n",
    "\n",
    "c = m.get(filter=('subtree', filter))\n",
    "r = jxmlease.parse(c.data_xml)\n",
    "noncisco = set()\n",
    "for s in r[u'data'][u'netconf-state'][u'schemas'][u'schema']:\n",
    "    ident = s[u'identifier']\n",
    "    if 'Cisco' not in ident and 'cisco' not in ident and '-MIB' not in ident:\n",
    "        noncisco.add(ident)\n",
    "for s in sorted(noncisco):\n",
    "    print(s)"
   ]
  },
  {
   "cell_type": "markdown",
   "metadata": {},
   "source": [
    "## What About Config? (On IOS-XR)\n",
    "\n",
    "The ncclient library provides for some simple operations. Let's skip thinking about schemas and stuff like that. Instead let's focus on config and getting end setting it. For that, ncclient provides two methods:\n",
    "\n",
    "* get_config - takes a target data store and an optional filter\n",
    "* edit_config - takes a target data store and an XML document with the edit request\n",
    "\n",
    "\n",
    "### Getting Config\n",
    "\n",
    "Let's look at some simple requests..."
   ]
  },
  {
   "cell_type": "code",
   "execution_count": null,
   "metadata": {
    "collapsed": false,
    "scrolled": true
   },
   "outputs": [],
   "source": [
    "c = m.get_config(source='running')\n",
    "pretty_print(c)"
   ]
  },
  {
   "cell_type": "markdown",
   "metadata": {},
   "source": [
    "#### Minor Digression\n",
    "\n",
    "Let's try parsing release with ```jxmlease```, and see if it's as easy as JSON. Be sure to have done a ```pip install jxmlease``` in the environment you are running Jupyter in!"
   ]
  },
  {
   "cell_type": "code",
   "execution_count": null,
   "metadata": {
    "collapsed": false
   },
   "outputs": [],
   "source": [
    "import jxmlease\n",
    "\n",
    "c = m.get_config(source='running')\n",
    "r = jxmlease.parse(c.data_xml)\n",
    "\n",
    "for intf in r[u'data'][u'interface-configurations'][u'interface-configuration']:\n",
    "    if 'ipv4-network' in intf.keys():\n",
    "        print(\"{} has IPv4 address {}\".format(\n",
    "                intf[u'interface-name'],\n",
    "                intf[u'ipv4-network'][u'addresses'][u'primary'][u'address']))\n",
    "    else:\n",
    "        print(\"{} has no IPv4 network config\".format(intf[u'interface-name']))\n"
   ]
  },
  {
   "cell_type": "markdown",
   "metadata": {},
   "source": [
    "#### Back to getting config..."
   ]
  },
  {
   "cell_type": "markdown",
   "metadata": {},
   "source": [
    "Now let's add in a simple filter to just get interface configuration:"
   ]
  },
  {
   "cell_type": "code",
   "execution_count": null,
   "metadata": {
    "collapsed": false,
    "scrolled": true
   },
   "outputs": [],
   "source": [
    "filter = '''\n",
    "<interface-configurations xmlns=\"http://cisco.com/ns/yang/Cisco-IOS-XR-ifmgr-cfg\"/>\n",
    "'''\n",
    "c = m.get_config(source='running', filter=('subtree', filter))\n",
    "pretty_print(c)"
   ]
  },
  {
   "cell_type": "markdown",
   "metadata": {},
   "source": [
    "Let's refine the query a bit to look at **just** the management ethernet port:"
   ]
  },
  {
   "cell_type": "code",
   "execution_count": null,
   "metadata": {
    "collapsed": false,
    "scrolled": true
   },
   "outputs": [],
   "source": [
    "filter = '''\n",
    "<interface-configurations xmlns=\"http://cisco.com/ns/yang/Cisco-IOS-XR-ifmgr-cfg\">\n",
    "  <interface-configuration>\n",
    "    <interface-name>GigabitEthernet0/0/0/2</interface-name>\n",
    "  </interface-configuration>\n",
    "</interface-configurations>\n",
    "'''\n",
    "c = m.get_config(source='running', filter=('subtree', filter))\n",
    "pretty_print(c)"
   ]
  },
  {
   "cell_type": "markdown",
   "metadata": {},
   "source": [
    "Or we may want to look at just ISIS config:"
   ]
  },
  {
   "cell_type": "code",
   "execution_count": null,
   "metadata": {
    "collapsed": false
   },
   "outputs": [],
   "source": [
    "filter = '''<isis xmlns=\"http://cisco.com/ns/yang/Cisco-IOS-XR-clns-isis-cfg\"/>'''\n",
    "c = m.get_config(source='running', filter=('subtree', filter))\n",
    "pretty_print(c)"
   ]
  },
  {
   "cell_type": "markdown",
   "metadata": {},
   "source": [
    "Or maybe just policy configuration?"
   ]
  },
  {
   "cell_type": "code",
   "execution_count": null,
   "metadata": {
    "collapsed": false
   },
   "outputs": [],
   "source": [
    "filter = '''<policy-manager xmlns=\"http://cisco.com/ns/yang/Cisco-IOS-XR-infra-policymgr-cfg\"/>'''\n",
    "c = m.get_config(source='running', filter=('subtree', filter))\n",
    "pretty_print(c)"
   ]
  },
  {
   "cell_type": "markdown",
   "metadata": {},
   "source": [
    "IP-SLA config anyone?"
   ]
  },
  {
   "cell_type": "code",
   "execution_count": null,
   "metadata": {
    "collapsed": false
   },
   "outputs": [],
   "source": [
    "filter = '''<sla xmlns=\"http://cisco.com/ns/yang/Cisco-IOS-XR-infra-sla-cfg\"/>'''\n",
    "c = m.get_config(source='running', filter=('subtree', filter))\n",
    "pretty_print(c)"
   ]
  },
  {
   "cell_type": "markdown",
   "metadata": {},
   "source": [
    "### Editing Config\n",
    "\n",
    "Let's start with something simple, like applying an IP address to an interface and bringing it up. We can actually use the data we got from the management ethernet port as a template.\n",
    "\n",
    "To do this, we use two functions:\n",
    "\n",
    "* ```edit_config``` on the candidate data store\n",
    "* ```commit``` to commit the change to running config, just like on the CLI\n",
    "\n",
    "For good measure, we'll also get the interface config back again to check out that what we asked to happen, actually did happen."
   ]
  },
  {
   "cell_type": "code",
   "execution_count": null,
   "metadata": {
    "collapsed": false
   },
   "outputs": [],
   "source": [
    "from ncclient.operations import TimeoutExpiredError\n",
    "\n",
    "edit_data = '''\n",
    "<config>\n",
    "  <interface-configurations xmlns=\"http://cisco.com/ns/yang/Cisco-IOS-XR-ifmgr-cfg\">\n",
    "   <interface-configuration>\n",
    "    <active>act</active>\n",
    "    <interface-name>GigabitEthernet0/0/0/0</interface-name>\n",
    "    <ipv4-network xmlns=\"http://cisco.com/ns/yang/Cisco-IOS-XR-ipv4-io-cfg\">\n",
    "     <addresses>\n",
    "      <primary>\n",
    "       <address>192.168.1.10</address>\n",
    "       <netmask>255.255.255.0</netmask>\n",
    "      </primary>\n",
    "     </addresses>\n",
    "    </ipv4-network>\n",
    "    <shutdown nc:operation=\"remove\"/>\n",
    "   </interface-configuration>\n",
    "  </interface-configurations>\n",
    "</config>\n",
    "'''\n",
    "\n",
    "filter = '''\n",
    "<interface-configurations xmlns=\"http://cisco.com/ns/yang/Cisco-IOS-XR-ifmgr-cfg\">\n",
    "  <interface-configuration>\n",
    "    <interface-name>GigabitEthernet0/0/0/0</interface-name>\n",
    "  </interface-configuration>\n",
    "</interface-configurations>\n",
    "'''\n",
    "\n",
    "try:\n",
    "    m.edit_config(edit_data, target='candidate', format='xml')\n",
    "    m.commit()\n",
    "    c = m.get_config(source='running', filter=('subtree', filter))\n",
    "    pretty_print(c)\n",
    "except TimeoutExpiredError as e:\n",
    "    print(\"Operation timeout!\")\n",
    "except Exception as e:\n",
    "    print(\"severity={}, tag={}\".format(e.severity, e.tag))\n",
    "    print(e)"
   ]
  },
  {
   "cell_type": "markdown",
   "metadata": {},
   "source": [
    "And now what about deleting that config and taking the interface back to it's original state?"
   ]
  },
  {
   "cell_type": "code",
   "execution_count": null,
   "metadata": {
    "collapsed": false
   },
   "outputs": [],
   "source": [
    "from ncclient.operations import TimeoutExpiredError\n",
    "\n",
    "filter = '''\n",
    "<interface-configurations xmlns=\"http://cisco.com/ns/yang/Cisco-IOS-XR-ifmgr-cfg\">\n",
    "  <interface-configuration>\n",
    "    <interface-name>GigabitEthernet0/0/0/0</interface-name>\n",
    "  </interface-configuration>\n",
    "</interface-configurations>\n",
    "'''\n",
    "\n",
    "edit_data1 = '''\n",
    "<config>\n",
    "  <interface-configurations xmlns=\"http://cisco.com/ns/yang/Cisco-IOS-XR-ifmgr-cfg\">\n",
    "   <interface-configuration>\n",
    "    <active>act</active>\n",
    "    <interface-name>GigabitEthernet0/0/0/0</interface-name>\n",
    "    <ipv4-network xmlns=\"http://cisco.com/ns/yang/Cisco-IOS-XR-ipv4-io-cfg\" nc:operation=\"remove\"/>\n",
    "    <shutdown/>\n",
    "   </interface-configuration>\n",
    "  </interface-configurations>\n",
    "</config>\n",
    "'''\n",
    "\n",
    "\n",
    "edit_data2 = '''\n",
    "<config>\n",
    "  <interface-configurations xmlns=\"http://cisco.com/ns/yang/Cisco-IOS-XR-ifmgr-cfg\">\n",
    "   <interface-configuration>\n",
    "    <active>act</active>\n",
    "    <interface-name>GigabitEthernet0/0/0/0</interface-name>\n",
    "    <shutdown nc:operation=\"delete\"/>\n",
    "    <ipv4-network xmlns=\"http://cisco.com/ns/yang/Cisco-IOS-XR-ipv4-io-cfg\" nc:operation=\"delete\"/>\n",
    "   </interface-configuration>\n",
    "  </interface-configurations>\n",
    "</config>\n",
    "'''\n",
    "\n",
    "\n",
    "try:\n",
    "    m.edit_config(edit_data1, target='candidate', format='xml')\n",
    "    m.commit()\n",
    "    c = m.get_config(source='running', filter=('subtree', filter))\n",
    "    pretty_print(c)\n",
    "except TimeoutExpiredError as e:\n",
    "    print(\"Operation timeout!\")\n",
    "except Exception as e:\n",
    "    print(\"severity={}, tag={}\".format(e.severity, e.tag))\n",
    "    print(e)"
   ]
  },
  {
   "cell_type": "markdown",
   "metadata": {},
   "source": [
    "## What About Oper Data?\n",
    "\n",
    "As we touched on before, NETCONF also has the ```get``` operation. This can get both configuration state **and** operational state.\n",
    "\n",
    "### Verbose Interface Stats"
   ]
  },
  {
   "cell_type": "code",
   "execution_count": null,
   "metadata": {
    "collapsed": false
   },
   "outputs": [],
   "source": [
    "from ncclient.operations import TimeoutExpiredError\n",
    "\n",
    "filter = '''\n",
    "<interfaces xmlns=\"http://cisco.com/ns/yang/Cisco-IOS-XR-pfi-im-cmd-oper\"/>\n",
    "'''\n",
    "\n",
    "try:\n",
    "    c = m.get(filter=('subtree', filter))\n",
    "    pretty_print(c)\n",
    "except TimeoutExpiredError as e:\n",
    "    print(\"Operation timeout!\")\n",
    "except Exception as e:\n",
    "    print(\"severity={}, tag={}\".format(e.severity, e.tag))\n",
    "    print(e)"
   ]
  },
  {
   "cell_type": "markdown",
   "metadata": {},
   "source": [
    "### Slightly Less Verbose Interface Stats"
   ]
  },
  {
   "cell_type": "code",
   "execution_count": null,
   "metadata": {
    "collapsed": false
   },
   "outputs": [],
   "source": [
    "from ncclient.operations import TimeoutExpiredError\n",
    "\n",
    "filter = '''\n",
    "<interfaces xmlns=\"http://cisco.com/ns/yang/Cisco-IOS-XR-pfi-im-cmd-oper\">\n",
    "  <interface-briefs/>\n",
    "</interfaces>\n",
    "'''\n",
    "\n",
    "try:\n",
    "    c = m.get(filter=('subtree', filter))\n",
    "    pretty_print(c)\n",
    "except TimeoutExpiredError as e:\n",
    "    print(\"Operation timeout!\")\n",
    "except Exception as e:\n",
    "    print(\"severity={}, tag={}\".format(e.severity, e.tag))\n",
    "    print(e)"
   ]
  },
  {
   "cell_type": "markdown",
   "metadata": {},
   "source": [
    "### Zeroing In On A Specific Interface"
   ]
  },
  {
   "cell_type": "code",
   "execution_count": null,
   "metadata": {
    "collapsed": false
   },
   "outputs": [],
   "source": [
    "from ncclient.operations import TimeoutExpiredError\n",
    "\n",
    "filter = '''\n",
    "<interfaces xmlns=\"http://cisco.com/ns/yang/Cisco-IOS-XR-pfi-im-cmd-oper\">\n",
    "  <interface-xr>\n",
    "    <interface>\n",
    "      <interface-name>MgmtEth0/RP0/CPU0/0</interface-name>\n",
    "      <interface-statistics/>\n",
    "    </interface>\n",
    "  </interface-xr>\n",
    "</interfaces>\n",
    "'''\n",
    "\n",
    "try:\n",
    "    c = m.get(filter=('subtree', filter))\n",
    "    pretty_print(c)\n",
    "except TimeoutExpiredError as e:\n",
    "    print(\"Operation timeout!\")\n",
    "except Exception as e:\n",
    "    print(\"severity={}, tag={}\".format(e.severity, e.tag))\n",
    "    print(e)"
   ]
  },
  {
   "cell_type": "markdown",
   "metadata": {},
   "source": [
    "### Zeroing In On Specific Stats Across Interfaces"
   ]
  },
  {
   "cell_type": "code",
   "execution_count": null,
   "metadata": {
    "collapsed": false
   },
   "outputs": [],
   "source": [
    "from ncclient.operations import TimeoutExpiredError\n",
    "\n",
    "filter = '''\n",
    "<interfaces xmlns=\"http://cisco.com/ns/yang/Cisco-IOS-XR-pfi-im-cmd-oper\">\n",
    "  <interface-xr>\n",
    "    <interface>\n",
    "      <interface-name>MgmtEth0/RP0/CPU0/0</interface-name>\n",
    "      <interface-statistics>\n",
    "        <full-interface-stats>\n",
    "          <packets-received/>\n",
    "          <bytes-received/>\n",
    "          <packets-sent/>\n",
    "          <bytes-sent/>\n",
    "        </full-interface-stats>\n",
    "      </interface-statistics>\n",
    "    </interface>\n",
    "  </interface-xr>\n",
    "</interfaces>\n",
    "'''\n",
    "\n",
    "try:\n",
    "    c = m.get(filter=('subtree', filter))\n",
    "    pretty_print(c)\n",
    "except TimeoutExpiredError as e:\n",
    "    print(\"Operation timeout!\")\n",
    "except Exception as e:\n",
    "    print(\"severity={}, tag={}\".format(e.severity, e.tag))\n",
    "    print(e)"
   ]
  },
  {
   "cell_type": "markdown",
   "metadata": {
    "slideshow": {
     "slide_type": "-"
    }
   },
   "source": [
    "## Conclusion\n",
    "\n",
    "NETCONF presents a number of useful primitives that we looked at today:\n",
    "\n",
    "* get config\n",
    "* get\n",
    "* edit config\n",
    "* commit\n",
    "* get schema\n",
    "\n",
    "There are more, so follow up to understand more later.\n",
    "\n",
    "With the prmitives we ran through today, you can do basic model discovery, understand what features are supported, and understand what parts of models are not supported.\n",
    "\n",
    "Products such as NSO, or open source projects like ODL or the YDK, can use these basic capabilities to work with devices in a much more reliable way."
   ]
  },
  {
   "cell_type": "markdown",
   "metadata": {},
   "source": [
    "## IOS-XE Samples\n",
    "\n",
    "The following samples will only work with IOS-XE platforms."
   ]
  },
  {
   "cell_type": "markdown",
   "metadata": {},
   "source": [
    "### Get-Config and Get"
   ]
  },
  {
   "cell_type": "code",
   "execution_count": null,
   "metadata": {
    "collapsed": false
   },
   "outputs": [],
   "source": [
    "filter = '''/native/vrf/definition[name=\"Mgmt-intf\"]'''\n",
    "c = m.get_config(source='running', filter=('xpath', filter))\n",
    "pretty_print(c)"
   ]
  },
  {
   "cell_type": "code",
   "execution_count": null,
   "metadata": {
    "collapsed": false
   },
   "outputs": [],
   "source": [
    "filter = '''/netconf-state/schemas'''\n",
    "c = m.get(filter=('xpath', filter))\n",
    "pretty_print(c)"
   ]
  },
  {
   "cell_type": "code",
   "execution_count": null,
   "metadata": {
    "collapsed": false
   },
   "outputs": [],
   "source": [
    "filter = '''\n",
    "<native xmlns=\"http://cisco.com/ns/yang/ned/ios\">\n",
    " <vrf>\n",
    "  <definition>\n",
    "   <name>Mgmt-intf</name>\n",
    "  </definition>\n",
    " </vrf>\n",
    "</native>'''\n",
    "c = m.get_config(source='running', filter=('subtree', filter))\n",
    "pretty_print(c)"
   ]
  },
  {
   "cell_type": "code",
   "execution_count": null,
   "metadata": {
    "collapsed": false
   },
   "outputs": [],
   "source": [
    "filter = '''/routing-state/routing-instance/routing-protocols/routing-protocol/ospf'''\n",
    "c = m.get(filter=('xpath', filter))\n",
    "pretty_print(c)"
   ]
  },
  {
   "cell_type": "code",
   "execution_count": null,
   "metadata": {
    "collapsed": false
   },
   "outputs": [],
   "source": [
    "filter = '''\n",
    "<routing-state xmlns=\"urn:ietf:params:xml:ns:yang:ietf-routing\">\n",
    " <routing-instance>\n",
    "  <routing-protocols>\n",
    "   <routing-protocol>\n",
    "    <ospf xmlns=\"urn:ietf:params:xml:ns:yang:ietf-ospf\"/>\n",
    "   </routing-protocol>\n",
    "  </routing-protocols>\n",
    " </routing-instance>\n",
    "</routing-state>'''\n",
    "c = m.get(filter=('subtree', filter))\n",
    "pretty_print(c)"
   ]
  },
  {
   "cell_type": "markdown",
   "metadata": {},
   "source": [
    "### Edit-Config"
   ]
  },
  {
   "cell_type": "code",
   "execution_count": null,
   "metadata": {
    "collapsed": false
   },
   "outputs": [],
   "source": [
    "from ncclient.operations import TimeoutExpiredError\n",
    "\n",
    "filter = '''\n",
    " <native xmlns=\"http://cisco.com/ns/yang/ned/ios\">\n",
    "  <interface>\n",
    "   <Loopback/>\n",
    "  </interface>\n",
    " </native>\n",
    "'''\n",
    "\n",
    "edit_data = '''<config>\n",
    " <native xmlns=\"http://cisco.com/ns/yang/ned/ios\">\n",
    "  <interface>\n",
    "   <Loopback nc:operation=\"delete\">\n",
    "    <name>200</name>\n",
    "    <description>temp</description>\n",
    "   </Loopback>\n",
    " </native>\n",
    "</config>'''\n",
    "\n",
    "try:\n",
    "    m.edit_config(edit_data, target='running', format='xml')\n",
    "    c = m.get_config(source='running', filter=('subtree', filter))\n",
    "    pretty_print(c)\n",
    "except TimeoutExpiredError as e:\n",
    "    print(\"Operation timeout!\")\n",
    "except Exception as e:\n",
    "    # print(\"severity={}, tag={}\".format(e.severity, e.tag))\n",
    "    print(e)"
   ]
  },
  {
   "cell_type": "markdown",
   "metadata": {
    "collapsed": true
   },
   "source": [
    "### More Edit Config"
   ]
  },
  {
   "cell_type": "code",
   "execution_count": null,
   "metadata": {
    "collapsed": false
   },
   "outputs": [],
   "source": [
    "filter = '''\n",
    " <native xmlns=\"http://cisco.com/ns/yang/ned/ios\">\n",
    "  <interface>\n",
    "   <Loopback>\n",
    "    <name>200</name>\n",
    "   </Loopback>\n",
    "  </interface>\n",
    " </native>\n",
    "'''\n",
    "\n",
    "edit_data = \"\"\"\n",
    "                <config>\n",
    "                <native xmlns=\"http://cisco.com/ns/yang/ned/ios\">\n",
    "                 <interface>\n",
    "                  <Loopback>\n",
    "                   <name>200</name>\n",
    "                   <ip>\n",
    "                    <address>\n",
    "                        <primary>\n",
    "                            <address>55.55.55.55</address>\n",
    "                            <mask>255.255.255.0</mask>\n",
    "                        </primary>\n",
    "                        <secondary>\n",
    "                            <address>9.9.9.9</address>\n",
    "                            <mask>255.255.255.0</mask>\n",
    "                            <secondary/>\n",
    "                        </secondary>\n",
    "                        <secondary>\n",
    "                            <address>68.1.1.1</address>\n",
    "                            <mask>255.255.255.0</mask>\n",
    "                            <secondary/>\n",
    "                        </secondary>\n",
    "                    </address>\n",
    "                   </ip>\n",
    "                  </Loopback>\n",
    "                 </interface>\n",
    "                </native>\n",
    "                </config>\n",
    "\"\"\"\n",
    "\n",
    "try:\n",
    "    m.edit_config(edit_data, target='running', format='xml')\n",
    "    c = m.get_config(source='running', filter=('subtree', filter))\n",
    "    pretty_print(c)\n",
    "except TimeoutExpiredError as e:\n",
    "    print(\"Operation timeout!\")\n",
    "except Exception as e:\n",
    "    # print(\"severity={}, tag={}\".format(e.severity, e.tag))\n",
    "    print(e)"
   ]
  },
  {
   "cell_type": "code",
   "execution_count": null,
   "metadata": {
    "collapsed": true
   },
   "outputs": [],
   "source": []
  }
 ],
 "metadata": {
  "kernelspec": {
   "display_name": "Python 2",
   "language": "python",
   "name": "python2"
  },
  "language_info": {
   "codemirror_mode": {
    "name": "ipython",
    "version": 2
   },
   "file_extension": ".py",
   "mimetype": "text/x-python",
   "name": "python",
   "nbconvert_exporter": "python",
   "pygments_lexer": "ipython2",
   "version": "2.7.12"
  }
 },
 "nbformat": 4,
 "nbformat_minor": 0
}
