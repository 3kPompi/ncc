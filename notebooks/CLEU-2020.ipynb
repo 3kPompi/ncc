{
 "cells": [
  {
   "cell_type": "markdown",
   "metadata": {},
   "source": [
    "# IOS-XE CLEU 2020 Demo"
   ]
  },
  {
   "cell_type": "markdown",
   "metadata": {},
   "source": [
    "## Connecting to a Device"
   ]
  },
  {
   "cell_type": "markdown",
   "metadata": {},
   "source": [
    "Let's define some variables:"
   ]
  },
  {
   "cell_type": "code",
   "execution_count": null,
   "metadata": {
    "scrolled": true
   },
   "outputs": [],
   "source": [
    "# Local CSR 1000v (running under vagrant) -- rtr1\n",
    "HOST = '127.0.0.1'\n",
    "PORT = 2200\n",
    "USER = 'vagrant'\n",
    "PASS = 'vagrant'"
   ]
  },
  {
   "cell_type": "markdown",
   "metadata": {},
   "source": [
    "Now let's establish a NETCONF session to that box using ncclient:"
   ]
  },
  {
   "cell_type": "code",
   "execution_count": null,
   "metadata": {
    "scrolled": true
   },
   "outputs": [],
   "source": [
    "from ncclient import manager\n",
    "from lxml import etree\n",
    "\n",
    "def pretty_print(retval):\n",
    "        print(etree.tostring(retval.data, pretty_print=True).decode())\n",
    "\n",
    "def my_unknown_host_cb(host, fingerprint):\n",
    "    return True\n",
    "    \n",
    "m = manager.connect(host=HOST, port=PORT, username=USER, password=PASS,\n",
    "                    allow_agent=False,\n",
    "                    look_for_keys=False,\n",
    "                    hostkey_verify=False,\n",
    "                    unknown_host_cb=my_unknown_host_cb)"
   ]
  },
  {
   "cell_type": "markdown",
   "metadata": {},
   "source": [
    "## Capabilities"
   ]
  },
  {
   "cell_type": "markdown",
   "metadata": {},
   "source": [
    "Let's look at the capabilities presented by the thing we've just connected to:"
   ]
  },
  {
   "cell_type": "code",
   "execution_count": null,
   "metadata": {
    "scrolled": true
   },
   "outputs": [],
   "source": [
    "for c in m.server_capabilities:\n",
    "    print(c)"
   ]
  },
  {
   "cell_type": "markdown",
   "metadata": {
    "collapsed": true
   },
   "source": [
    "Ok, that's a bit messy, so let's tidy it up a bit and look, initially, at all the base netconf capabilities:"
   ]
  },
  {
   "cell_type": "code",
   "execution_count": null,
   "metadata": {
    "scrolled": false
   },
   "outputs": [],
   "source": [
    "nc_caps = [c for c in m.server_capabilities if c.startswith('urn:ietf:params:netconf') and \"smiv2\" not in c]\n",
    "for c in nc_caps:\n",
    "    print(c)"
   ]
  },
  {
   "cell_type": "markdown",
   "metadata": {
    "collapsed": true
   },
   "source": [
    "And now let's look at the capabilities that are related to model support:"
   ]
  },
  {
   "cell_type": "code",
   "execution_count": null,
   "metadata": {
    "scrolled": true
   },
   "outputs": [],
   "source": [
    "import re\n",
    "\n",
    "for c in m.server_capabilities:\n",
    "    model = re.search('module=([^&]*)&', c)\n",
    "    if model is not None:\n",
    "        print(\"{}\".format(model.group(1)))\n",
    "\n",
    "        revision = re.search('revision=([0-9]{4}-[0-9]{2}-[0-9]{2})', c)\n",
    "        if revision is not None:\n",
    "            print(\"  revision = {}\".format(revision.group(1)))\n",
    "\n",
    "        deviations = re.search('deviations=([a-zA-Z0-9\\-,]+)($|&)',c)\n",
    "        if deviations is not None:\n",
    "            print(\"  deviations = {}\".format(deviations.group(1)))\n",
    "\n",
    "        features = re.search('features=([a-zA-Z0-9\\-,]+)($|&)',c)\n",
    "        if features is not None:\n",
    "            print(\"  features = {}\".format(features.group(1)))"
   ]
  },
  {
   "cell_type": "markdown",
   "metadata": {},
   "source": [
    "## Schema\n",
    "\n",
    "Let's take a look at playing with schema. First, we can try downloading them, picking one of the modules we got capabilities for."
   ]
  },
  {
   "cell_type": "code",
   "execution_count": null,
   "metadata": {
    "scrolled": true
   },
   "outputs": [],
   "source": [
    "# SCHEMA_TO_GET = 'openconfig-interfaces'\n",
    "# SCHEMA_TO_GET = 'Cisco-IOS-XE-native'\n",
    "# SCHEMA_TO_GET = 'Cisco-IOS-XE-features'\n",
    "SCHEMA_TO_GET = 'Cisco-IOS-XE-interfaces-oper'\n",
    "\n",
    "c = m.get_schema(SCHEMA_TO_GET)\n",
    "print(c.data)"
   ]
  },
  {
   "cell_type": "markdown",
   "metadata": {},
   "source": [
    "That's not so readable. Let's use a utility called ```pyang``` to get something a bit more readable."
   ]
  },
  {
   "cell_type": "code",
   "execution_count": null,
   "metadata": {
    "scrolled": true
   },
   "outputs": [],
   "source": [
    "from subprocess import Popen, PIPE, STDOUT\n",
    "\n",
    "SCHEMA_TO_GET = 'Cisco-IOS-XE-interfaces-oper'\n",
    "\n",
    "c = m.get_schema(SCHEMA_TO_GET)\n",
    "\n",
    "# Simple pyang tree display\n",
    "# p = Popen(['pyang', '-f', 'tree'], stdout=PIPE, stdin=PIPE, stderr=PIPE)\n",
    "\n",
    "# Restrict display depth\n",
    "# p = Popen(['pyang', '-f', 'tree', '--tree-depth', '2'], stdout=PIPE, stdin=PIPE, stderr=PIPE)\n",
    "\n",
    "# Restrict display path\n",
    "p = Popen(['pyang',\n",
    "           '-f', 'tree',\n",
    "           '--tree-path', 'interfaces/interface/statistics'],\n",
    "          stdout=PIPE, stdin=PIPE, stderr=PIPE)\n",
    "\n",
    "# Push the data from the get_schema through pyang\n",
    "stdout_data = p.communicate(input=c.data.encode())[0]\n",
    "\n",
    "print(stdout_data.decode())"
   ]
  },
  {
   "cell_type": "markdown",
   "metadata": {},
   "source": [
    "## What About Config?\n",
    "\n",
    "The ncclient library provides for some simple operations. Let's skip thinking about schemas and stuff like that. Instead let's focus on config and getting end setting it. For that, ncclient provides two methods:\n",
    "\n",
    "* get_config - takes a target data store and an optional filter\n",
    "* edit_config - takes a target data store and an XML document with the edit request"
   ]
  },
  {
   "cell_type": "markdown",
   "metadata": {},
   "source": [
    "### Getting Config\n",
    "\n",
    "Let's look at some simple requests..."
   ]
  },
  {
   "cell_type": "code",
   "execution_count": null,
   "metadata": {
    "scrolled": true
   },
   "outputs": [],
   "source": [
    "c = m.get_config(source='running')\n",
    "pretty_print(c)"
   ]
  },
  {
   "cell_type": "markdown",
   "metadata": {},
   "source": [
    "Now let's add in a simple filter:"
   ]
  },
  {
   "cell_type": "code",
   "execution_count": null,
   "metadata": {
    "scrolled": true
   },
   "outputs": [],
   "source": [
    "filter = '''\n",
    "<native>\n",
    " <username/>\n",
    "</native>\n",
    "'''\n",
    "\n",
    "with m.locked(target='running'):\n",
    "    c = m.get_config(source='running', filter=('subtree', filter))\n",
    "    pretty_print(c)"
   ]
  },
  {
   "cell_type": "markdown",
   "metadata": {},
   "source": [
    "### Retrieve Interface Config Data (Native Model)"
   ]
  },
  {
   "cell_type": "code",
   "execution_count": null,
   "metadata": {
    "scrolled": true
   },
   "outputs": [],
   "source": [
    "filter = '''\n",
    "<native xmlns=\"http://cisco.com/ns/yang/Cisco-IOS-XE-native\">\n",
    "  <interface/>\n",
    "</native>\n",
    "'''\n",
    "c = m.get_config(source='running', filter=('subtree', filter))\n",
    "pretty_print(c)"
   ]
  },
  {
   "cell_type": "markdown",
   "metadata": {},
   "source": [
    "### Retrieve Interface Data (Native Model) With XPath Query\n",
    "\n",
    "As well as subtree filters, **IOS-XE** supports XPath-based filters."
   ]
  },
  {
   "cell_type": "code",
   "execution_count": null,
   "metadata": {
    "scrolled": false
   },
   "outputs": [],
   "source": [
    "filter = '/native/interface/GigabitEthernet/name'\n",
    "\n",
    "c = m.get_config(source='running', filter=('xpath', filter))\n",
    "pretty_print(c)"
   ]
  },
  {
   "cell_type": "markdown",
   "metadata": {},
   "source": [
    "### Retrieve All BGP Data\n",
    "\n",
    "Now let's look at the BGP native model:"
   ]
  },
  {
   "cell_type": "code",
   "execution_count": null,
   "metadata": {
    "scrolled": false
   },
   "outputs": [],
   "source": [
    "filter = '''\n",
    "<native xmlns=\"http://cisco.com/ns/yang/Cisco-IOS-XE-native\">\n",
    " <router>\n",
    "   <bgp xmlns=\"http://cisco.com/ns/yang/Cisco-IOS-XE-bgp\"/>\n",
    " </router>\n",
    "</native>\n",
    "'''\n",
    "c = m.get_config(source='running', filter=('subtree', filter))\n",
    "pretty_print(c)"
   ]
  },
  {
   "cell_type": "markdown",
   "metadata": {},
   "source": [
    "### Look At A Specific BGP Neighbor\n",
    "\n",
    "And can we look at a specific neighbor only? Say the one with id (address) ```192.168.0.1```?"
   ]
  },
  {
   "cell_type": "code",
   "execution_count": null,
   "metadata": {
    "scrolled": false
   },
   "outputs": [],
   "source": [
    "filter = '''\n",
    "<native xmlns=\"http://cisco.com/ns/yang/Cisco-IOS-XE-native\">\n",
    "  <router>\n",
    "    <bgp xmlns=\"http://cisco.com/ns/yang/Cisco-IOS-XE-bgp\">\n",
    "      <id>100</id>\n",
    "      <neighbor>\n",
    "        <id>192.168.0.1</id>\n",
    "      </neighbor>\n",
    "    </bgp>\n",
    "  </router>\n",
    "</native>\n",
    "'''\n",
    "c = m.get_config(source='running', filter=('subtree', filter))\n",
    "pretty_print(c)"
   ]
  },
  {
   "cell_type": "markdown",
   "metadata": {},
   "source": [
    "### Create New BGP Neighbor\n",
    "\n",
    "Ok, so, yes we can get a specific neighbor. Now, can we create a new neighbor? Let's create one with an id of '192.168.1.1', with a remote-as of 666."
   ]
  },
  {
   "cell_type": "code",
   "execution_count": null,
   "metadata": {
    "scrolled": true
   },
   "outputs": [],
   "source": [
    "from ncclient.operations import TimeoutExpiredError\n",
    "\n",
    "edit_data = '''\n",
    "<config xmlns=\"urn:ietf:params:xml:ns:netconf:base:1.0\" xmlns:nc=\"urn:ietf:params:xml:ns:netconf:base:1.0\">\n",
    "  <native xmlns=\"http://cisco.com/ns/yang/Cisco-IOS-XE-native\">\n",
    "    <router>\n",
    "      <bgp xmlns=\"http://cisco.com/ns/yang/Cisco-IOS-XE-bgp\">\n",
    "        <id>100</id>\n",
    "        <neighbor nc:operation=\"merge\">\n",
    "          <id>192.168.1.1</id>\n",
    "          <remote-as>200</remote-as>\n",
    "        </neighbor>\n",
    "      </bgp>\n",
    "    </router>\n",
    "  </native>\n",
    "</config>\n",
    "'''\n",
    "\n",
    "try:\n",
    "    edit_reply = m.edit_config(edit_data, target='running', format='xml')\n",
    "except TimeoutExpiredError as e:\n",
    "    print(\"Operation timeout!\")\n",
    "except Exception as e:\n",
    "    print(\"severity={}, tag={}\".format(e.severity, e.tag))\n",
    "    print(e)"
   ]
  },
  {
   "cell_type": "markdown",
   "metadata": {},
   "source": [
    "Now let's pull back that neighbor:"
   ]
  },
  {
   "cell_type": "code",
   "execution_count": null,
   "metadata": {
    "scrolled": true
   },
   "outputs": [],
   "source": [
    "filter = '''\n",
    "<native xmlns=\"http://cisco.com/ns/yang/Cisco-IOS-XE-native\">\n",
    "  <router>\n",
    "    <bgp xmlns=\"http://cisco.com/ns/yang/Cisco-IOS-XE-bgp\">\n",
    "      <id>100</id>\n",
    "      <neighbor>\n",
    "        <id>192.168.1.1</id>\n",
    "      </neighbor>\n",
    "    </bgp>\n",
    "  </router>\n",
    "</native>\n",
    "'''\n",
    "c = m.get_config(source='running', filter=('subtree', filter))\n",
    "pretty_print(c)"
   ]
  },
  {
   "cell_type": "markdown",
   "metadata": {},
   "source": [
    "### Modify The BGP Neighbor Description\n",
    "\n",
    "Can modify something in the neighbor we just created? Let's keep it simple and modify the description:"
   ]
  },
  {
   "cell_type": "code",
   "execution_count": null,
   "metadata": {
    "scrolled": true
   },
   "outputs": [],
   "source": [
    "from ncclient.operations import TimeoutExpiredError\n",
    "\n",
    "edit_data = '''\n",
    "<config xmlns=\"urn:ietf:params:xml:ns:netconf:base:1.0\" xmlns:nc=\"urn:ietf:params:xml:ns:netconf:base:1.0\">\n",
    "  <native xmlns=\"http://cisco.com/ns/yang/Cisco-IOS-XE-native\">\n",
    "    <router>\n",
    "      <bgp xmlns=\"http://cisco.com/ns/yang/Cisco-IOS-XE-bgp\">\n",
    "        <id>100</id>\n",
    "        <neighbor>\n",
    "          <id>192.168.1.1</id>\n",
    "          <remote-as>200</remote-as>\n",
    "          <description nc:operation=\"merge\">modified description</description>\n",
    "        </neighbor>\n",
    "      </bgp>\n",
    "    </router>\n",
    "  </native>\n",
    "</config>\n",
    "'''\n",
    "\n",
    "try:\n",
    "    with m.locked(target='running'):\n",
    "        edit_reply = m.edit_config(edit_data, target='running', format='xml')\n",
    "except TimeoutExpiredError as e:\n",
    "    print(\"Operation timeout!\")\n",
    "except Exception as e:\n",
    "    print(\"severity={}, tag={}\".format(e.severity, e.tag))\n",
    "    print(e)"
   ]
  },
  {
   "cell_type": "markdown",
   "metadata": {},
   "source": [
    "### Delete A BGP Neighbor\n",
    "\n",
    "Might need to do this before creating depending on the state of the router!"
   ]
  },
  {
   "cell_type": "code",
   "execution_count": null,
   "metadata": {
    "scrolled": true
   },
   "outputs": [],
   "source": [
    "from ncclient.operations import TimeoutExpiredError\n",
    "from lxml.etree import XMLSyntaxError\n",
    "\n",
    "edit_data = '''\n",
    "<config xmlns=\"urn:ietf:params:xml:ns:netconf:base:1.0\" xmlns:nc=\"urn:ietf:params:xml:ns:netconf:base:1.0\">\n",
    "  <native xmlns=\"http://cisco.com/ns/yang/Cisco-IOS-XE-native\">\n",
    "    <router>\n",
    "      <bgp xmlns=\"http://cisco.com/ns/yang/Cisco-IOS-XE-bgp\">\n",
    "        <id>100</id>\n",
    "        <neighbor nc:operation=\"delete\">\n",
    "          <id>192.168.1.1</id>\n",
    "        </neighbor>\n",
    "      </bgp>\n",
    "    </router>\n",
    "  </native>\n",
    "</config>\n",
    "'''\n",
    "\n",
    "try:\n",
    "    edit_reply = m.edit_config(edit_data, target='running', format='xml')\n",
    "except TimeoutExpiredError as e:\n",
    "    print(\"Operation timeout!\")\n",
    "except XMLSyntaxError as e:\n",
    "    print(e)\n",
    "    print(e.args)\n",
    "    print(dir(e))\n",
    "except Exception as e:\n",
    "    print(\"severity={}, tag={}\".format(e.severity, e.tag))\n",
    "    print(e)"
   ]
  },
  {
   "cell_type": "markdown",
   "metadata": {},
   "source": [
    "## Other Stuff"
   ]
  },
  {
   "cell_type": "markdown",
   "metadata": {},
   "source": [
    "### Get interface operational data from native model:"
   ]
  },
  {
   "cell_type": "code",
   "execution_count": null,
   "metadata": {
    "scrolled": true
   },
   "outputs": [],
   "source": [
    "filter = '''\n",
    "<interfaces xmlns=\"http://cisco.com/ns/yang/Cisco-IOS-XE-interfaces-oper\">\n",
    "  <interface/>\n",
    "</interfaces>\n",
    "'''\n",
    "c = m.get(filter=('subtree', filter))\n",
    "pretty_print(c)"
   ]
  },
  {
   "cell_type": "markdown",
   "metadata": {},
   "source": [
    "### Get all interface names"
   ]
  },
  {
   "cell_type": "code",
   "execution_count": null,
   "metadata": {
    "scrolled": true
   },
   "outputs": [],
   "source": [
    "filter = '''\n",
    "<interfaces xmlns=\"http://cisco.com/ns/yang/Cisco-IOS-XE-interfaces-oper\">\n",
    "  <interface>\n",
    "    <name/>\n",
    "  </interface>\n",
    "</interfaces>\n",
    "'''\n",
    "c = m.get(filter=('subtree', filter))\n",
    "pretty_print(c)"
   ]
  },
  {
   "cell_type": "markdown",
   "metadata": {},
   "source": [
    "### Get the statistics from a specific interface:"
   ]
  },
  {
   "cell_type": "code",
   "execution_count": null,
   "metadata": {
    "scrolled": true
   },
   "outputs": [],
   "source": [
    "filter = '''\n",
    "<interfaces xmlns=\"http://cisco.com/ns/yang/Cisco-IOS-XE-interfaces-oper\">\n",
    "  <interface>\n",
    "    <name>GigabitEthernet1</name>\n",
    "    <statistics/>\n",
    "  </interface>\n",
    "</interfaces>\n",
    "'''\n",
    "c = m.get(filter=('subtree', filter))\n",
    "pretty_print(c)"
   ]
  },
  {
   "cell_type": "markdown",
   "metadata": {},
   "source": [
    "### Exercise Constraints"
   ]
  },
  {
   "cell_type": "markdown",
   "metadata": {},
   "source": [
    "#### Create a VRF and put an interface into it"
   ]
  },
  {
   "cell_type": "code",
   "execution_count": null,
   "metadata": {},
   "outputs": [],
   "source": [
    "from ncclient.operations import TimeoutExpiredError\n",
    "\n",
    "edit_data = '''\n",
    "<config xmlns=\"urn:ietf:params:xml:ns:netconf:base:1.0\" xmlns:nc=\"urn:ietf:params:xml:ns:netconf:base:1.0\">\n",
    "  <native xmlns=\"http://cisco.com/ns/yang/Cisco-IOS-XE-native\">\n",
    "    <interface>\n",
    "      <GigabitEthernet>\n",
    "        <name>4</name>\n",
    "        <vrf>\n",
    "          <forwarding>TEST</forwarding>\n",
    "        </vrf>\n",
    "        <ip>\n",
    "          <address>\n",
    "            <primary>\n",
    "              <address>192.168.1.222</address>\n",
    "              <mask>255.255.255.0</mask>\n",
    "            </primary>\n",
    "          </address>\n",
    "        </ip>\n",
    "      </GigabitEthernet>\n",
    "    </interface>\n",
    "    <vrf>\n",
    "      <definition>\n",
    "        <name>TEST</name>\n",
    "        <address-family>\n",
    "          <ipv4/>\n",
    "        </address-family>\n",
    "      </definition>\n",
    "    </vrf>\n",
    "  </native>\n",
    "</config>\n",
    "'''\n",
    "\n",
    "try:\n",
    "    edit_reply = m.edit_config(edit_data, target='running', format='xml')\n",
    "except TimeoutExpiredError as e:\n",
    "    print(\"Operation timeout!\")\n",
    "except Exception as e:\n",
    "    print(\"severity={}, tag={}\".format(e.severity, e.tag))\n",
    "    print(e)"
   ]
  },
  {
   "cell_type": "markdown",
   "metadata": {},
   "source": [
    "#### Try to delete the VRF"
   ]
  },
  {
   "cell_type": "code",
   "execution_count": null,
   "metadata": {},
   "outputs": [],
   "source": [
    "from ncclient.operations import TimeoutExpiredError\n",
    "\n",
    "edit_data = '''\n",
    "<config xmlns=\"urn:ietf:params:xml:ns:netconf:base:1.0\" xmlns:nc=\"urn:ietf:params:xml:ns:netconf:base:1.0\">\n",
    "  <native xmlns=\"http://cisco.com/ns/yang/Cisco-IOS-XE-native\">\n",
    "    <vrf>\n",
    "      <definition nc:operation=\"delete\">\n",
    "        <name>TEST</name>\n",
    "      </definition>\n",
    "    </vrf>\n",
    "  </native>\n",
    "</config>\n",
    "'''\n",
    "\n",
    "try:\n",
    "    edit_reply = m.edit_config(edit_data, target='running', format='xml')\n",
    "except TimeoutExpiredError as e:\n",
    "    print(\"Operation timeout!\")\n",
    "except Exception as e:\n",
    "    print(\"severity={}, tag={}\".format(e.severity, e.tag))\n",
    "    print(e)"
   ]
  },
  {
   "cell_type": "markdown",
   "metadata": {},
   "source": [
    "#### Delete the VRF right"
   ]
  },
  {
   "cell_type": "code",
   "execution_count": null,
   "metadata": {},
   "outputs": [],
   "source": [
    "from ncclient.operations import TimeoutExpiredError\n",
    "import textwrap\n",
    "\n",
    "# get all interfaces where VRF \"TEST\" is bound\n",
    "xpath = \"/native/interface/*/vrf[forwarding='TEST']\"\n",
    "c = m.get(filter=('xpath', xpath))\n",
    "\n",
    "# set operation=delete on every VRF found\n",
    "for e in c.data.xpath('//*[local-name()=\"vrf\"]'):\n",
    "    e.attrib['{urn:ietf:params:xml:ns:netconf:base:1.0}operation'] = \"delete\"\n",
    "\n",
    "# find the node \"native\" and add it to a config node and then run an edit\n",
    "config = etree.Element(\n",
    "        \"config\",\n",
    "        nsmap = {None: 'urn:ietf:params:xml:ns:netconf:base:1.0'})\n",
    "config.append(c.data.xpath('//*[local-name()=\"native\"]')[0])\n",
    "\n",
    "# display what we will try to delete\n",
    "print('What we will no try to delete:\\n')\n",
    "to_delete = etree.tostring(config, pretty_print=True).decode()\n",
    "print(textwrap.indent(to_delete, '  ') )\n",
    "\n",
    "# now delete the VRF from, the interface\n",
    "try:\n",
    "   edit_reply = m.edit_config(config, target='running', format='xml')\n",
    "except TimeoutExpiredError as e:\n",
    "    print(\"Operation timeout!\")\n",
    "except Exception as e:\n",
    "    print(\"severity={}, tag={}\".format(e.severity, e.tag))\n",
    "    print(e)"
   ]
  },
  {
   "cell_type": "markdown",
   "metadata": {},
   "source": [
    "#### Try put an interface into a non-existent VRF"
   ]
  },
  {
   "cell_type": "code",
   "execution_count": null,
   "metadata": {},
   "outputs": [],
   "source": [
    "from ncclient.operations import TimeoutExpiredError\n",
    "\n",
    "edit_data = '''\n",
    "<config xmlns=\"urn:ietf:params:xml:ns:netconf:base:1.0\" xmlns:nc=\"urn:ietf:params:xml:ns:netconf:base:1.0\">\n",
    "  <native xmlns=\"http://cisco.com/ns/yang/Cisco-IOS-XE-native\">\n",
    "    <interface>\n",
    "      <GigabitEthernet>\n",
    "        <name>3</name>\n",
    "        <vrf>\n",
    "          <forwarding>DOES_NOT_EXIST</forwarding>\n",
    "        </vrf>\n",
    "        <ip>\n",
    "          <address>\n",
    "            <primary>\n",
    "              <address>192.168.2.222</address>\n",
    "              <mask>255.255.255.0</mask>\n",
    "            </primary>\n",
    "          </address>\n",
    "        </ip>\n",
    "      </GigabitEthernet>\n",
    "    </interface>\n",
    "  </native>\n",
    "</config>\n",
    "'''\n",
    "\n",
    "try:\n",
    "    with m.locked(target='running'):\n",
    "        edit_reply = m.edit_config(edit_data, target='running', format='xml')\n",
    "except TimeoutExpiredError as e:\n",
    "    print(\"Operation timeout!\")\n",
    "except Exception as e:\n",
    "    print(\"severity={}, tag={}\".format(e.severity, e.tag))\n",
    "    print(e)"
   ]
  },
  {
   "cell_type": "code",
   "execution_count": null,
   "metadata": {},
   "outputs": [],
   "source": []
  },
  {
   "cell_type": "code",
   "execution_count": null,
   "metadata": {},
   "outputs": [],
   "source": []
  },
  {
   "cell_type": "code",
   "execution_count": null,
   "metadata": {},
   "outputs": [],
   "source": []
  },
  {
   "cell_type": "code",
   "execution_count": null,
   "metadata": {},
   "outputs": [],
   "source": []
  },
  {
   "cell_type": "code",
   "execution_count": null,
   "metadata": {},
   "outputs": [],
   "source": []
  },
  {
   "cell_type": "code",
   "execution_count": null,
   "metadata": {},
   "outputs": [],
   "source": []
  },
  {
   "cell_type": "code",
   "execution_count": null,
   "metadata": {},
   "outputs": [],
   "source": []
  },
  {
   "cell_type": "code",
   "execution_count": null,
   "metadata": {},
   "outputs": [],
   "source": []
  },
  {
   "cell_type": "code",
   "execution_count": null,
   "metadata": {},
   "outputs": [],
   "source": []
  },
  {
   "cell_type": "code",
   "execution_count": null,
   "metadata": {},
   "outputs": [],
   "source": []
  },
  {
   "cell_type": "code",
   "execution_count": null,
   "metadata": {},
   "outputs": [],
   "source": []
  },
  {
   "cell_type": "code",
   "execution_count": null,
   "metadata": {},
   "outputs": [],
   "source": []
  },
  {
   "cell_type": "code",
   "execution_count": null,
   "metadata": {},
   "outputs": [],
   "source": []
  },
  {
   "cell_type": "markdown",
   "metadata": {},
   "source": [
    "### Alternate XML Creation"
   ]
  },
  {
   "cell_type": "code",
   "execution_count": null,
   "metadata": {},
   "outputs": [],
   "source": [
    "from lxml import etree\n",
    "\n",
    "def create_interface_filter(intf_name):\n",
    "    interfaces = etree.Element(\n",
    "        \"interfaces\",\n",
    "        nsmap = {None: 'http://openconfig.net/yang/interfaces'})\n",
    "    interface = etree.SubElement(interfaces, \"interface\")\n",
    "    etree.SubElement(interface, 'name').text = intf_name\n",
    "    state = etree.SubElement(interface, 'state')\n",
    "    etree.SubElement(state, 'counters')\n",
    "    return interfaces\n",
    "\n",
    "print(etree.tostring(create_interface_filter('MgmtEth0/RP0/CPU0/0'), pretty_print=True))\n",
    "print(etree.tostring(create_interface_filter('GigabitEthernet1'), pretty_print=True))"
   ]
  },
  {
   "cell_type": "markdown",
   "metadata": {},
   "source": [
    "# Enable Debugging"
   ]
  },
  {
   "cell_type": "code",
   "execution_count": null,
   "metadata": {
    "scrolled": true
   },
   "outputs": [],
   "source": [
    "import logging\n",
    "\n",
    "handler = logging.StreamHandler()\n",
    "for l in ['ncclient.transport.ssh', 'ncclient.transport.session', 'ncclient.operations.rpc']:\n",
    "    logger = logging.getLogger(l)\n",
    "    logger.addHandler(handler)\n",
    "    logger.setLevel(logging.DEBUG)"
   ]
  }
 ],
 "metadata": {
  "kernelspec": {
   "display_name": "Python 3",
   "language": "python",
   "name": "python3"
  },
  "language_info": {
   "codemirror_mode": {
    "name": "ipython",
    "version": 3
   },
   "file_extension": ".py",
   "mimetype": "text/x-python",
   "name": "python",
   "nbconvert_exporter": "python",
   "pygments_lexer": "ipython3",
   "version": "3.7.6"
  }
 },
 "nbformat": 4,
 "nbformat_minor": 1
}
